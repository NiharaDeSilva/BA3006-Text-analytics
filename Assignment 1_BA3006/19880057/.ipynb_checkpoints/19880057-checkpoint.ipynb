{
 "cells": [
  {
   "cell_type": "code",
   "execution_count": 798,
   "metadata": {},
   "outputs": [],
   "source": [
    "import numpy as np\n",
    "import pandas as pd"
   ]
  },
  {
   "cell_type": "code",
   "execution_count": 799,
   "metadata": {},
   "outputs": [],
   "source": [
    "#Machine Learning Packages used for feature extraction\n",
    "from sklearn.feature_extraction.text import CountVectorizer\n",
    "from sklearn.feature_extraction import DictVectorizer\n",
    "#from sklearn.feature_extraction.text import TfidfVectorizer"
   ]
  },
  {
   "cell_type": "code",
   "execution_count": 800,
   "metadata": {},
   "outputs": [],
   "source": [
    "#Loading the data from a csv file to a dataframe\n",
    "df = pd.read_csv('names_dataset_sinhala.csv')"
   ]
  },
  {
   "cell_type": "code",
   "execution_count": 801,
   "metadata": {},
   "outputs": [
    {
     "data": {
      "text/html": [
       "<div>\n",
       "<style scoped>\n",
       "    .dataframe tbody tr th:only-of-type {\n",
       "        vertical-align: middle;\n",
       "    }\n",
       "\n",
       "    .dataframe tbody tr th {\n",
       "        vertical-align: top;\n",
       "    }\n",
       "\n",
       "    .dataframe thead th {\n",
       "        text-align: right;\n",
       "    }\n",
       "</style>\n",
       "<table border=\"1\" class=\"dataframe\">\n",
       "  <thead>\n",
       "    <tr style=\"text-align: right;\">\n",
       "      <th></th>\n",
       "      <th>Name</th>\n",
       "      <th>Gender</th>\n",
       "    </tr>\n",
       "  </thead>\n",
       "  <tbody>\n",
       "    <tr>\n",
       "      <th>0</th>\n",
       "      <td>අචින්ත්‍යා</td>\n",
       "      <td>Female</td>\n",
       "    </tr>\n",
       "    <tr>\n",
       "      <th>1</th>\n",
       "      <td>අදිශානි</td>\n",
       "      <td>Female</td>\n",
       "    </tr>\n",
       "    <tr>\n",
       "      <th>2</th>\n",
       "      <td>අදිති</td>\n",
       "      <td>Female</td>\n",
       "    </tr>\n",
       "    <tr>\n",
       "      <th>3</th>\n",
       "      <td>අග්රානි</td>\n",
       "      <td>Female</td>\n",
       "    </tr>\n",
       "    <tr>\n",
       "      <th>4</th>\n",
       "      <td>අහංසා</td>\n",
       "      <td>Female</td>\n",
       "    </tr>\n",
       "  </tbody>\n",
       "</table>\n",
       "</div>"
      ],
      "text/plain": [
       "         Name  Gender\n",
       "0  අචින්ත්‍යා  Female\n",
       "1     අදිශානි  Female\n",
       "2       අදිති  Female\n",
       "3     අග්රානි  Female\n",
       "4       අහංසා  Female"
      ]
     },
     "execution_count": 801,
     "metadata": {},
     "output_type": "execute_result"
    }
   ],
   "source": [
    "#Print the top 5 records\n",
    "df.head()"
   ]
  },
  {
   "cell_type": "code",
   "execution_count": 802,
   "metadata": {},
   "outputs": [
    {
     "data": {
      "text/plain": [
       "3676"
      ]
     },
     "execution_count": 802,
     "metadata": {},
     "output_type": "execute_result"
    }
   ],
   "source": [
    "df.size"
   ]
  },
  {
   "cell_type": "code",
   "execution_count": 803,
   "metadata": {},
   "outputs": [
    {
     "data": {
      "text/plain": [
       "Index(['Name', 'Gender'], dtype='object')"
      ]
     },
     "execution_count": 803,
     "metadata": {},
     "output_type": "execute_result"
    }
   ],
   "source": [
    "#Checking for column name consistency\n",
    "df.columns"
   ]
  },
  {
   "cell_type": "code",
   "execution_count": 804,
   "metadata": {},
   "outputs": [
    {
     "data": {
      "text/plain": [
       "Name      object\n",
       "Gender    object\n",
       "dtype: object"
      ]
     },
     "execution_count": 804,
     "metadata": {},
     "output_type": "execute_result"
    }
   ],
   "source": [
    "#Data Type\n",
    "df.dtypes"
   ]
  },
  {
   "cell_type": "code",
   "execution_count": 805,
   "metadata": {},
   "outputs": [
    {
     "data": {
      "text/plain": [
       "1802"
      ]
     },
     "execution_count": 805,
     "metadata": {},
     "output_type": "execute_result"
    }
   ],
   "source": [
    "#Size of female names \n",
    "df[df.Gender == 'Female'].size"
   ]
  },
  {
   "cell_type": "code",
   "execution_count": 806,
   "metadata": {},
   "outputs": [
    {
     "data": {
      "text/plain": [
       "1874"
      ]
     },
     "execution_count": 806,
     "metadata": {},
     "output_type": "execute_result"
    }
   ],
   "source": [
    "#Size of male names\n",
    "df[df.Gender == 'Male'].size"
   ]
  },
  {
   "cell_type": "code",
   "execution_count": 807,
   "metadata": {},
   "outputs": [],
   "source": [
    "df_names = df"
   ]
  },
  {
   "cell_type": "code",
   "execution_count": 808,
   "metadata": {},
   "outputs": [],
   "source": [
    "df_names.Gender.replace({'Female':0, 'Male':1}, inplace=True)"
   ]
  },
  {
   "cell_type": "code",
   "execution_count": 809,
   "metadata": {},
   "outputs": [
    {
     "data": {
      "text/plain": [
       "array([0, 1], dtype=int64)"
      ]
     },
     "execution_count": 809,
     "metadata": {},
     "output_type": "execute_result"
    }
   ],
   "source": [
    "df_names.Gender.unique()"
   ]
  },
  {
   "cell_type": "code",
   "execution_count": 810,
   "metadata": {},
   "outputs": [
    {
     "data": {
      "text/plain": [
       "Name      object\n",
       "Gender     int64\n",
       "dtype: object"
      ]
     },
     "execution_count": 810,
     "metadata": {},
     "output_type": "execute_result"
    }
   ],
   "source": [
    "df_names.dtypes"
   ]
  },
  {
   "cell_type": "code",
   "execution_count": 811,
   "metadata": {},
   "outputs": [],
   "source": [
    "Xfeatures = df_names['Name']"
   ]
  },
  {
   "cell_type": "code",
   "execution_count": 812,
   "metadata": {},
   "outputs": [],
   "source": [
    "#Feature Extraction using CountVectorizer\n",
    "cv = CountVectorizer(encoding='utf-8')\n",
    "X = cv.fit_transform(Xfeatures)"
   ]
  },
  {
   "cell_type": "code",
   "execution_count": 813,
   "metadata": {},
   "outputs": [
    {
     "data": {
      "text/plain": [
       "['අක',\n",
       " 'අග',\n",
       " 'අගත',\n",
       " 'අගශ',\n",
       " 'අච',\n",
       " 'අත',\n",
       " 'අද',\n",
       " 'අන',\n",
       " 'අනග',\n",
       " 'අනන',\n",
       " 'අප',\n",
       " 'අබ',\n",
       " 'අභ',\n",
       " 'අම',\n",
       " 'අමන',\n",
       " 'අමය',\n",
       " 'අමල',\n",
       " 'අය',\n",
       " 'අයන',\n",
       " 'අර',\n",
       " 'අරයන',\n",
       " 'අරල',\n",
       " 'අශ',\n",
       " 'අස',\n",
       " 'අහ',\n",
       " 'අහර',\n",
       " 'අහස',\n",
       " 'ආකර',\n",
       " 'ආදම',\n",
       " 'ආන',\n",
       " 'ආය',\n",
       " 'ආරද',\n",
       " 'ආල',\n",
       " 'ආශ',\n",
       " 'ඇන',\n",
       " 'ඉත',\n",
       " 'ඉන',\n",
       " 'ඉඳ',\n",
       " 'ඉම',\n",
       " 'ඉමන',\n",
       " 'ඉමය',\n",
       " 'ඉර',\n",
       " 'ඉරෂ',\n",
       " 'ඉල',\n",
       " 'ඉෂ',\n",
       " 'ඉස',\n",
       " 'ඉසල',\n",
       " 'ඊඩන',\n",
       " 'ඊතන',\n",
       " 'උත',\n",
       " 'උද',\n",
       " 'උප',\n",
       " 'උම',\n",
       " 'උව',\n",
       " 'උවන',\n",
       " 'උෂ',\n",
       " 'ඌව',\n",
       " 'එත',\n",
       " 'එන',\n",
       " 'එම',\n",
       " 'එමල',\n",
       " 'එර',\n",
       " 'එරන',\n",
       " 'එෂ',\n",
       " 'එෂල',\n",
       " 'එසන',\n",
       " 'එසඳ',\n",
       " 'ඒන',\n",
       " 'ඔක',\n",
       " 'ඔකඳ',\n",
       " 'ඔන',\n",
       " 'ඔම',\n",
       " 'ඔමල',\n",
       " 'ඔල',\n",
       " 'ඔව',\n",
       " 'ඔශ',\n",
       " 'ඔෂ',\n",
       " 'ඔස',\n",
       " 'ඔසන',\n",
       " 'ඕව',\n",
       " 'ඕෂ',\n",
       " 'ඕෂද',\n",
       " 'කන',\n",
       " 'කය',\n",
       " 'කල',\n",
       " 'කව',\n",
       " 'ගග',\n",
       " 'ගගන',\n",
       " 'ගද',\n",
       " 'ගන',\n",
       " 'ගය',\n",
       " 'ගයත',\n",
       " 'ගර',\n",
       " 'ගව',\n",
       " 'චක',\n",
       " 'චත',\n",
       " 'චන',\n",
       " 'චම',\n",
       " 'චමත',\n",
       " 'චමද',\n",
       " 'චමල',\n",
       " 'ජන',\n",
       " 'ජය',\n",
       " 'ජයන',\n",
       " 'ජයම',\n",
       " 'ජයව',\n",
       " 'ජල',\n",
       " 'ජස',\n",
       " 'ටන',\n",
       " 'ඩන',\n",
       " 'ඩය',\n",
       " 'ණද',\n",
       " 'තක',\n",
       " 'තජ',\n",
       " 'තත',\n",
       " 'තන',\n",
       " 'තනක',\n",
       " 'තනව',\n",
       " 'තම',\n",
       " 'තමල',\n",
       " 'තමෂ',\n",
       " 'තර',\n",
       " 'තව',\n",
       " 'තශ',\n",
       " 'තෂ',\n",
       " 'තස',\n",
       " 'දක',\n",
       " 'දන',\n",
       " 'දනර',\n",
       " 'දම',\n",
       " 'දර',\n",
       " 'දස',\n",
       " 'දහම',\n",
       " 'ධන',\n",
       " 'නක',\n",
       " 'නජ',\n",
       " 'නත',\n",
       " 'නතන',\n",
       " 'නද',\n",
       " 'නන',\n",
       " 'නම',\n",
       " 'නය',\n",
       " 'නර',\n",
       " 'නල',\n",
       " 'නව',\n",
       " 'නවන',\n",
       " 'නෂ',\n",
       " 'නසර',\n",
       " 'පන',\n",
       " 'පම',\n",
       " 'පව',\n",
       " 'පවර',\n",
       " 'පස',\n",
       " 'පසන',\n",
       " 'පසඳ',\n",
       " 'පහන',\n",
       " 'බත',\n",
       " 'බව',\n",
       " 'බෂ',\n",
       " 'මග',\n",
       " 'මත',\n",
       " 'මද',\n",
       " 'මධ',\n",
       " 'මන',\n",
       " 'මප',\n",
       " 'මය',\n",
       " 'මර',\n",
       " 'මල',\n",
       " 'මස',\n",
       " 'මහ',\n",
       " 'යත',\n",
       " 'යන',\n",
       " 'යපත',\n",
       " 'යම',\n",
       " 'යල',\n",
       " 'යශ',\n",
       " 'යස',\n",
       " 'යසඳ',\n",
       " 'යසම',\n",
       " 'යසස',\n",
       " 'රක',\n",
       " 'රණ',\n",
       " 'රත',\n",
       " 'රද',\n",
       " 'රන',\n",
       " 'රභ',\n",
       " 'රම',\n",
       " 'රමල',\n",
       " 'රය',\n",
       " 'රල',\n",
       " 'රව',\n",
       " 'රශ',\n",
       " 'රෂ',\n",
       " 'රස',\n",
       " 'රසද',\n",
       " 'ලක',\n",
       " 'ලන',\n",
       " 'ලනක',\n",
       " 'ලම',\n",
       " 'ලයන',\n",
       " 'ලව',\n",
       " 'ලස',\n",
       " 'ලසල',\n",
       " 'වක',\n",
       " 'වත',\n",
       " 'වන',\n",
       " 'වර',\n",
       " 'වල',\n",
       " 'වසර',\n",
       " 'වහස',\n",
       " 'ශන',\n",
       " 'ශම',\n",
       " 'ශය',\n",
       " 'ශල',\n",
       " 'ශලන',\n",
       " 'ශව',\n",
       " 'ශෂ',\n",
       " 'ෂණ',\n",
       " 'ෂර',\n",
       " 'ෂල',\n",
       " 'ෂලන',\n",
       " 'ෂෂ',\n",
       " 'ෂහ',\n",
       " 'සක',\n",
       " 'සග',\n",
       " 'සච',\n",
       " 'සජ',\n",
       " 'සජන',\n",
       " 'සත',\n",
       " 'සද',\n",
       " 'සන',\n",
       " 'සඳ',\n",
       " 'සඳන',\n",
       " 'සඳප',\n",
       " 'සඳම',\n",
       " 'සඳය',\n",
       " 'සඳල',\n",
       " 'සඳස',\n",
       " 'සම',\n",
       " 'සමල',\n",
       " 'සය',\n",
       " 'සර',\n",
       " 'සරණ',\n",
       " 'සල',\n",
       " 'සව',\n",
       " 'සවන',\n",
       " 'සෂ',\n",
       " 'සස',\n",
       " 'සසන',\n",
       " 'සහ',\n",
       " 'හක',\n",
       " 'හග',\n",
       " 'හඟ',\n",
       " 'හත',\n",
       " 'හන',\n",
       " 'හර',\n",
       " 'හල',\n",
       " 'හස',\n",
       " 'හසන',\n",
       " 'හසරන']"
      ]
     },
     "execution_count": 813,
     "metadata": {},
     "output_type": "execute_result"
    }
   ],
   "source": [
    "#Print the features \n",
    "cv.get_feature_names()"
   ]
  },
  {
   "cell_type": "code",
   "execution_count": 814,
   "metadata": {},
   "outputs": [],
   "source": [
    "from sklearn.model_selection import train_test_split"
   ]
  },
  {
   "cell_type": "code",
   "execution_count": 815,
   "metadata": {},
   "outputs": [],
   "source": [
    "#Features\n",
    "X\n",
    "#Labels\n",
    "y = df_names.Gender"
   ]
  },
  {
   "cell_type": "code",
   "execution_count": 816,
   "metadata": {},
   "outputs": [],
   "source": [
    "X_train, X_test, y_train, y_test = train_test_split(X,y, test_size=0.33, random_state =42)"
   ]
  },
  {
   "cell_type": "code",
   "execution_count": 817,
   "metadata": {},
   "outputs": [
    {
     "data": {
      "text/plain": [
       "0.5123558484349259"
      ]
     },
     "execution_count": 817,
     "metadata": {},
     "output_type": "execute_result"
    }
   ],
   "source": [
    "#1st Classifier - Naive Bayes Classifier \n",
    "from sklearn.naive_bayes import MultinomialNB\n",
    "#instantiate a Multinomial Naive Bayes model\n",
    "clf = MultinomialNB()\n",
    "#train the model\n",
    "clf.fit(X_train, y_train)\n",
    "clf.score(X_test, y_test)"
   ]
  },
  {
   "cell_type": "code",
   "execution_count": 818,
   "metadata": {},
   "outputs": [
    {
     "name": "stdout",
     "output_type": "stream",
     "text": [
      "Accuracy of Model 51.23558484349259 %\n"
     ]
    }
   ],
   "source": [
    "#Accuracy of the model for test data\n",
    "print(\"Accuracy of Model\", clf.score(X_test, y_test)*100, '%')"
   ]
  },
  {
   "cell_type": "code",
   "execution_count": 819,
   "metadata": {},
   "outputs": [
    {
     "name": "stdout",
     "output_type": "stream",
     "text": [
      "Accuracy of Model 64.74411047928513 %\n"
     ]
    }
   ],
   "source": [
    "#Accuracy of the model for training data\n",
    "print(\"Accuracy of Model\", clf.score(X_train, y_train)*100, '%')"
   ]
  },
  {
   "cell_type": "code",
   "execution_count": 820,
   "metadata": {},
   "outputs": [
    {
     "data": {
      "text/plain": [
       "array([[0, 0, 0, 0, 0, 0, 0, 0, 0, 0, 0, 0, 0, 0, 0, 0, 0, 0, 0, 0, 0, 0,\n",
       "        0, 0, 0, 0, 0, 0, 0, 0, 0, 0, 0, 0, 0, 0, 0, 0, 0, 0, 0, 0, 0, 0,\n",
       "        0, 0, 0, 0, 0, 0, 0, 0, 0, 0, 0, 0, 0, 0, 0, 0, 0, 0, 0, 0, 0, 0,\n",
       "        0, 0, 0, 0, 0, 0, 0, 0, 0, 0, 0, 0, 0, 0, 0, 0, 0, 0, 0, 0, 0, 0,\n",
       "        0, 0, 0, 0, 0, 0, 0, 0, 0, 0, 0, 0, 0, 0, 0, 0, 0, 0, 0, 0, 0, 0,\n",
       "        0, 0, 0, 0, 0, 0, 0, 0, 0, 0, 0, 0, 0, 0, 0, 0, 0, 0, 0, 0, 0, 0,\n",
       "        0, 0, 0, 0, 0, 0, 0, 0, 0, 0, 0, 0, 0, 0, 0, 0, 0, 0, 0, 0, 0, 0,\n",
       "        0, 0, 0, 0, 0, 0, 0, 0, 0, 0, 0, 0, 0, 0, 0, 0, 0, 0, 0, 0, 0, 0,\n",
       "        0, 0, 0, 0, 0, 0, 0, 0, 0, 0, 0, 0, 0, 0, 0, 0, 0, 0, 0, 0, 0, 0,\n",
       "        0, 0, 0, 0, 0, 0, 0, 0, 0, 0, 0, 0, 0, 0, 0, 0, 0, 0, 0, 0, 0, 0,\n",
       "        0, 0, 0, 0, 0, 0, 0, 0, 0, 0, 0, 0, 0, 0, 0, 0, 0, 0, 0, 0, 0, 0,\n",
       "        0, 0, 0, 0, 0, 0, 0, 0, 0, 0, 0, 0, 0, 0, 0, 0, 0, 0]],\n",
       "      dtype=int64)"
      ]
     },
     "execution_count": 820,
     "metadata": {},
     "output_type": "execute_result"
    }
   ],
   "source": [
    "#sample prediction 1\n",
    "sample_name = ['නෙතුනි']\n",
    "vect = cv.transform(sample_name).toarray()\n",
    "vect"
   ]
  },
  {
   "cell_type": "code",
   "execution_count": 821,
   "metadata": {},
   "outputs": [
    {
     "data": {
      "text/plain": [
       "array([0], dtype=int64)"
      ]
     },
     "execution_count": 821,
     "metadata": {},
     "output_type": "execute_result"
    }
   ],
   "source": [
    "clf.predict(vect)"
   ]
  },
  {
   "cell_type": "code",
   "execution_count": 822,
   "metadata": {},
   "outputs": [
    {
     "data": {
      "text/plain": [
       "array([[0, 0, 0, 0, 0, 0, 0, 0, 0, 0, 0, 0, 0, 0, 0, 0, 0, 0, 0, 0, 0, 0,\n",
       "        0, 0, 0, 0, 0, 0, 0, 0, 0, 0, 0, 0, 0, 0, 0, 0, 0, 0, 0, 0, 0, 0,\n",
       "        0, 0, 0, 0, 0, 0, 0, 0, 0, 0, 0, 0, 0, 0, 0, 0, 0, 0, 0, 0, 0, 0,\n",
       "        0, 0, 0, 0, 0, 0, 0, 0, 0, 0, 0, 0, 0, 0, 0, 0, 0, 0, 0, 0, 0, 0,\n",
       "        0, 0, 0, 0, 0, 0, 0, 0, 0, 0, 0, 0, 0, 0, 0, 0, 0, 0, 0, 0, 0, 0,\n",
       "        0, 0, 0, 0, 0, 0, 0, 0, 0, 0, 0, 0, 0, 0, 0, 0, 0, 0, 0, 0, 0, 0,\n",
       "        0, 0, 0, 0, 0, 0, 0, 0, 0, 0, 0, 0, 0, 0, 0, 0, 0, 0, 0, 0, 0, 0,\n",
       "        0, 0, 0, 0, 0, 0, 0, 0, 0, 0, 0, 0, 0, 0, 0, 0, 0, 0, 0, 0, 0, 0,\n",
       "        0, 0, 0, 0, 0, 0, 0, 0, 0, 0, 0, 0, 0, 0, 0, 0, 0, 0, 0, 0, 0, 0,\n",
       "        0, 0, 0, 0, 0, 0, 0, 0, 0, 0, 0, 0, 0, 0, 0, 0, 0, 0, 0, 0, 0, 0,\n",
       "        0, 0, 0, 0, 0, 0, 0, 0, 0, 0, 0, 0, 0, 0, 0, 0, 0, 0, 0, 0, 0, 0,\n",
       "        0, 0, 0, 0, 0, 0, 0, 0, 0, 0, 0, 0, 0, 0, 0, 0, 0, 0]],\n",
       "      dtype=int64)"
      ]
     },
     "execution_count": 822,
     "metadata": {},
     "output_type": "execute_result"
    }
   ],
   "source": [
    "#sample prediction2\n",
    "sample_name1 = ['දිනේෂ්']\n",
    "vect1 = cv.transform(sample_name1).toarray()\n",
    "vect1"
   ]
  },
  {
   "cell_type": "code",
   "execution_count": 823,
   "metadata": {},
   "outputs": [],
   "source": [
    "def genderPredictor(a):\n",
    "    test_name = [a]\n",
    "    vector = cv.transform(test_name).toarray()\n",
    "    if clf.predict(vector) == 0:\n",
    "        print('Female')\n",
    "    else:\n",
    "        print('Male')\n"
   ]
  },
  {
   "cell_type": "code",
   "execution_count": 824,
   "metadata": {},
   "outputs": [
    {
     "name": "stdout",
     "output_type": "stream",
     "text": [
      "Female\n"
     ]
    }
   ],
   "source": [
    "genderPredictor(\"රිද්මාලි\")"
   ]
  },
  {
   "cell_type": "code",
   "execution_count": 825,
   "metadata": {},
   "outputs": [
    {
     "name": "stdout",
     "output_type": "stream",
     "text": [
      "Male\n",
      "None\n",
      "Male\n",
      "None\n",
      "Female\n",
      "None\n",
      "Male\n",
      "None\n"
     ]
    }
   ],
   "source": [
    "name_list = [\"ඇලෙක්ස්\",\"ශලීෂා\", \"සුසිතා\", \"නිර්මාල්\"]\n",
    "for n in name_list:\n",
    "    print (genderPredictor1(n))"
   ]
  },
  {
   "cell_type": "code",
   "execution_count": 826,
   "metadata": {},
   "outputs": [],
   "source": [
    "#Using a custom function for feature analysis\n",
    "#By Analogy that most of the female names ends in 'ආ'' sound or 'ඉ' sound\n",
    "def features(name):\n",
    "    name=name.lower()\n",
    "    return{\n",
    "        'first-letter': name[0], #first letter\n",
    "        'first2-letters': name[0:2], #first 2 letters\n",
    "        'first3-letters': name[0:3], #first3 letters\n",
    "        'last-letter': name[-1], #last letter\n",
    "        'last2-letters': name[-2:], #last2 letters\n",
    "        'last3-letters': name[-3:], #last3 letters\n",
    "    }"
   ]
  },
  {
   "cell_type": "code",
   "execution_count": 827,
   "metadata": {},
   "outputs": [
    {
     "name": "stdout",
     "output_type": "stream",
     "text": [
      "[{'first-letter': 'ක', 'first2-letters': 'කස', 'first3-letters': 'කසු', 'last-letter': 'ි', 'last2-letters': 'නි', 'last3-letters': 'ුනි'}\n",
      " {'first-letter': 'න', 'first2-letters': 'නව', 'first3-letters': 'නවං', 'last-letter': 'ා', 'last2-letters': 'නා', 'last3-letters': 'ජනා'}\n",
      " {'first-letter': 'ස', 'first2-letters': 'සන', 'first3-letters': 'සන්', 'last-letter': '්', 'last2-letters': 'ෂ්', 'last3-letters': 'ුෂ්'}\n",
      " {'first-letter': 'භ', 'first2-letters': 'භා', 'first3-letters': 'භාත', 'last-letter': 'ය', 'last2-letters': 'ිය', 'last3-letters': 'තිය'}]\n"
     ]
    }
   ],
   "source": [
    "#Vectorize the features function\n",
    "features = np.vectorize(features)\n",
    "print(features(['කසුනි', 'නවංජනා', 'සන්තුෂ්', 'භාතිය']))"
   ]
  },
  {
   "cell_type": "code",
   "execution_count": 828,
   "metadata": {},
   "outputs": [],
   "source": [
    "#Extract the features for the dataset\n",
    "df_X = features(df_names['Name'])\n",
    "df_y = df_names['Gender']"
   ]
  },
  {
   "cell_type": "code",
   "execution_count": 829,
   "metadata": {},
   "outputs": [
    {
     "name": "stdout",
     "output_type": "stream",
     "text": [
      "  (0, 0)\t1.0\n",
      "  (0, 2)\t1.0\n",
      "  (0, 4)\t1.0\n",
      "  (0, 7)\t1.0\n",
      "  (0, 8)\t1.0\n",
      "  (0, 10)\t1.0\n",
      "  (1, 1)\t1.0\n",
      "  (1, 3)\t1.0\n",
      "  (1, 5)\t1.0\n",
      "  (1, 6)\t1.0\n",
      "  (1, 9)\t1.0\n",
      "  (1, 11)\t1.0\n"
     ]
    }
   ],
   "source": [
    "from sklearn.feature_extraction import DictVectorizer\n",
    "corpus = features(['කසුනි','සන්තුෂ්'])\n",
    "dv = DictVectorizer()\n",
    "dv.fit(corpus)\n",
    "transformed = dv.transform(corpus)\n",
    "print(transformed)"
   ]
  },
  {
   "cell_type": "code",
   "execution_count": 830,
   "metadata": {},
   "outputs": [
    {
     "data": {
      "text/plain": [
       "['first-letter=ක',\n",
       " 'first-letter=ස',\n",
       " 'first2-letters=කස',\n",
       " 'first2-letters=සන',\n",
       " 'first3-letters=කසු',\n",
       " 'first3-letters=සන්',\n",
       " 'last-letter=්',\n",
       " 'last-letter=ි',\n",
       " 'last2-letters=නි',\n",
       " 'last2-letters=ෂ්',\n",
       " 'last3-letters=ුනි',\n",
       " 'last3-letters=ුෂ්']"
      ]
     },
     "execution_count": 830,
     "metadata": {},
     "output_type": "execute_result"
    }
   ],
   "source": [
    "dv.get_feature_names()"
   ]
  },
  {
   "cell_type": "code",
   "execution_count": 831,
   "metadata": {},
   "outputs": [],
   "source": [
    "dfX_train, dfX_test, dfy_train, dfy_test = train_test_split(df_X,df_y, test_size=0.33, random_state=42)"
   ]
  },
  {
   "cell_type": "code",
   "execution_count": 832,
   "metadata": {},
   "outputs": [
    {
     "data": {
      "text/plain": [
       "array([{'first-letter': 'න', 'first2-letters': 'නෙ', 'first3-letters': 'නෙස', 'last-letter': 'ි', 'last2-letters': 'දි', 'last3-letters': '්දි'},\n",
       "       {'first-letter': 'බ', 'first2-letters': 'බි', 'first3-letters': 'බිල', 'last-letter': 'ා', 'last2-letters': 'කා', 'last3-letters': 'ංකා'},\n",
       "       {'first-letter': 'න', 'first2-letters': 'නෂ', 'first3-letters': 'නෂ්', 'last-letter': 'ක', 'last2-letters': 'ික', 'last3-letters': 'මික'},\n",
       "       ...,\n",
       "       {'first-letter': 'ව', 'first2-letters': 'වි', 'first3-letters': 'විර', 'last-letter': 'ි', 'last2-letters': 'ගි', 'last3-letters': 'ංගි'},\n",
       "       {'first-letter': 'ප', 'first2-letters': 'පව', 'first3-letters': 'පවර', 'last-letter': 'ර', 'last2-letters': 'වර', 'last3-letters': 'පවර'},\n",
       "       {'first-letter': 'ද', 'first2-letters': 'දු', 'first3-letters': 'දුම', 'last-letter': 'ෂ', 'last2-letters': '්ෂ', 'last3-letters': 'ල්ෂ'}],\n",
       "      dtype=object)"
      ]
     },
     "execution_count": 832,
     "metadata": {},
     "output_type": "execute_result"
    }
   ],
   "source": [
    "dfX_train"
   ]
  },
  {
   "cell_type": "code",
   "execution_count": 833,
   "metadata": {},
   "outputs": [
    {
     "data": {
      "text/plain": [
       "<1231x1370 sparse matrix of type '<class 'numpy.float64'>'\n",
       "\twith 7386 stored elements in Compressed Sparse Row format>"
      ]
     },
     "execution_count": 833,
     "metadata": {},
     "output_type": "execute_result"
    }
   ],
   "source": [
    "dv = DictVectorizer()\n",
    "dv.fit_transform(dfX_train)"
   ]
  },
  {
   "cell_type": "code",
   "execution_count": 834,
   "metadata": {},
   "outputs": [
    {
     "data": {
      "text/plain": [
       "DecisionTreeClassifier()"
      ]
     },
     "execution_count": 834,
     "metadata": {},
     "output_type": "execute_result"
    }
   ],
   "source": [
    "#Model building Using Dictionaries\n",
    "#2nd Classifier - DecisionTreeClassifier\n",
    "from sklearn.tree import DecisionTreeClassifier\n",
    "#instantiate a Decision Tree Classifier model\n",
    "dclf= DecisionTreeClassifier()\n",
    "my_xfeatures = dv.transform(dfX_train)\n",
    "dclf.fit(my_xfeatures, dfy_train)"
   ]
  },
  {
   "cell_type": "code",
   "execution_count": 835,
   "metadata": {},
   "outputs": [
    {
     "data": {
      "text/plain": [
       "DecisionTreeClassifier()"
      ]
     },
     "execution_count": 835,
     "metadata": {},
     "output_type": "execute_result"
    }
   ],
   "source": [
    "DecisionTreeClassifier()"
   ]
  },
  {
   "cell_type": "code",
   "execution_count": 836,
   "metadata": {},
   "outputs": [],
   "source": [
    "#Build Features and Transform them\n",
    "sample_name_eg = ['භාතිය']\n",
    "transform_dv = dv.transform(features(sample_name_eg))\n",
    "vect3 = transform_dv.toarray()"
   ]
  },
  {
   "cell_type": "code",
   "execution_count": 837,
   "metadata": {},
   "outputs": [
    {
     "name": "stdout",
     "output_type": "stream",
     "text": [
      "Female\n"
     ]
    }
   ],
   "source": [
    "#Predicting Gender of name\n",
    "#Male is 1, Female is 0\n",
    "dclf.predict(vect3)\n",
    "if dclf.predict(vect3) ==0:\n",
    "    print('Female')\n",
    "else:\n",
    "    print('Male')"
   ]
  },
  {
   "cell_type": "code",
   "execution_count": 838,
   "metadata": {},
   "outputs": [],
   "source": [
    "#A function to predict gender \n",
    "def genderPredictorDT(a):\n",
    "    test_name1 = [a]\n",
    "    transform_dv = dv.transform(features(test_name1))\n",
    "    vector = transform_dv.toarray()\n",
    "    if dclf.predict(vector) == 0:\n",
    "        print('Female')\n",
    "    else:\n",
    "        print('Male')\n",
    "    "
   ]
  },
  {
   "cell_type": "code",
   "execution_count": 839,
   "metadata": {},
   "outputs": [],
   "source": [
    "random_name_list = [\"ඇලෙක්ස්\",\"ශලීෂා\", \"සුසිතා\", \"නිර්මාල්\"]"
   ]
  },
  {
   "cell_type": "code",
   "execution_count": 840,
   "metadata": {},
   "outputs": [
    {
     "name": "stdout",
     "output_type": "stream",
     "text": [
      "Male\n",
      "None\n",
      "Male\n",
      "None\n",
      "Female\n",
      "None\n",
      "Male\n",
      "None\n"
     ]
    }
   ],
   "source": [
    "for n in random_name_list:\n",
    "    print (genderPredictorDT(n))"
   ]
  },
  {
   "cell_type": "code",
   "execution_count": 841,
   "metadata": {},
   "outputs": [
    {
     "name": "stdout",
     "output_type": "stream",
     "text": [
      "Accuracy of Model 0.9967506092607636\n"
     ]
    }
   ],
   "source": [
    "#Accuracy on training set\n",
    "print(\"Accuracy of Model\", dclf.score(dv.transform(dfX_train), dfy_train))"
   ]
  },
  {
   "cell_type": "code",
   "execution_count": 842,
   "metadata": {
    "scrolled": true
   },
   "outputs": [
    {
     "name": "stdout",
     "output_type": "stream",
     "text": [
      "Accuracy of Model 0.943986820428336\n"
     ]
    }
   ],
   "source": [
    "#Accuracy on test set\n",
    "print(\"Accuracy of Model\", dclf.score(dv.transform(dfX_test), dfy_test))"
   ]
  },
  {
   "cell_type": "code",
   "execution_count": 843,
   "metadata": {},
   "outputs": [],
   "source": [
    "##Accuracy of models descision tree Classifier works better than Naive bayes"
   ]
  },
  {
   "cell_type": "code",
   "execution_count": 844,
   "metadata": {},
   "outputs": [],
   "source": [
    "#Saving our model\n",
    "import joblib"
   ]
  },
  {
   "cell_type": "code",
   "execution_count": 845,
   "metadata": {},
   "outputs": [],
   "source": [
    "decisiontreeModel = open(\"decisiontreemodel.pkl\",\"wb\")\n",
    "joblib.dump(dclf, decisiontreeModel)\n",
    "decisiontreeModel.close()"
   ]
  },
  {
   "cell_type": "code",
   "execution_count": 846,
   "metadata": {},
   "outputs": [],
   "source": [
    "NaiveBayesModel = open(\"naivebayesgendermodel.pkl\",\"wb\")\n",
    "joblib.dump(clf, NaiveBayesModel)\n",
    "NaiveBayesModel.close()"
   ]
  },
  {
   "cell_type": "code",
   "execution_count": null,
   "metadata": {},
   "outputs": [],
   "source": []
  },
  {
   "cell_type": "code",
   "execution_count": null,
   "metadata": {},
   "outputs": [],
   "source": []
  },
  {
   "cell_type": "code",
   "execution_count": 581,
   "metadata": {},
   "outputs": [],
   "source": []
  },
  {
   "cell_type": "code",
   "execution_count": 582,
   "metadata": {},
   "outputs": [],
   "source": []
  },
  {
   "cell_type": "code",
   "execution_count": 583,
   "metadata": {},
   "outputs": [],
   "source": []
  },
  {
   "cell_type": "code",
   "execution_count": 584,
   "metadata": {},
   "outputs": [],
   "source": []
  }
 ],
 "metadata": {
  "kernelspec": {
   "display_name": "Python 3",
   "language": "python",
   "name": "python3"
  },
  "language_info": {
   "codemirror_mode": {
    "name": "ipython",
    "version": 3
   },
   "file_extension": ".py",
   "mimetype": "text/x-python",
   "name": "python",
   "nbconvert_exporter": "python",
   "pygments_lexer": "ipython3",
   "version": "3.7.4"
  }
 },
 "nbformat": 4,
 "nbformat_minor": 4
}
