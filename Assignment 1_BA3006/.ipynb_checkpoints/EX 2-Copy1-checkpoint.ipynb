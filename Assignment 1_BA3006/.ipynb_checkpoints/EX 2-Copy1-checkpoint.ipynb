{
 "cells": [
  {
   "cell_type": "code",
   "execution_count": 395,
   "metadata": {},
   "outputs": [],
   "source": [
    "import numpy as np"
   ]
  },
  {
   "cell_type": "code",
   "execution_count": 396,
   "metadata": {},
   "outputs": [],
   "source": [
    "import pandas as pd"
   ]
  },
  {
   "cell_type": "code",
   "execution_count": 397,
   "metadata": {},
   "outputs": [],
   "source": [
    "#ML Packages\n",
    "from sklearn.feature_extraction.text import CountVectorizer\n",
    "from sklearn.feature_extraction import DictVectorizer\n",
    "#from sklearn.feature_extraction.text import TfidfVectorizer"
   ]
  },
  {
   "cell_type": "code",
   "execution_count": 398,
   "metadata": {},
   "outputs": [],
   "source": [
    "#Load our data\n",
    "df = pd.read_csv('names_dataset_sinhala.csv')"
   ]
  },
  {
   "cell_type": "code",
   "execution_count": 399,
   "metadata": {},
   "outputs": [
    {
     "data": {
      "text/html": [
       "<div>\n",
       "<style scoped>\n",
       "    .dataframe tbody tr th:only-of-type {\n",
       "        vertical-align: middle;\n",
       "    }\n",
       "\n",
       "    .dataframe tbody tr th {\n",
       "        vertical-align: top;\n",
       "    }\n",
       "\n",
       "    .dataframe thead th {\n",
       "        text-align: right;\n",
       "    }\n",
       "</style>\n",
       "<table border=\"1\" class=\"dataframe\">\n",
       "  <thead>\n",
       "    <tr style=\"text-align: right;\">\n",
       "      <th></th>\n",
       "      <th>Name</th>\n",
       "      <th>Gender</th>\n",
       "    </tr>\n",
       "  </thead>\n",
       "  <tbody>\n",
       "    <tr>\n",
       "      <th>0</th>\n",
       "      <td>අචින්ත්‍යා</td>\n",
       "      <td>Female</td>\n",
       "    </tr>\n",
       "    <tr>\n",
       "      <th>1</th>\n",
       "      <td>අදිශානි</td>\n",
       "      <td>Female</td>\n",
       "    </tr>\n",
       "    <tr>\n",
       "      <th>2</th>\n",
       "      <td>අදිති</td>\n",
       "      <td>Female</td>\n",
       "    </tr>\n",
       "    <tr>\n",
       "      <th>3</th>\n",
       "      <td>අග්රානි</td>\n",
       "      <td>Female</td>\n",
       "    </tr>\n",
       "    <tr>\n",
       "      <th>4</th>\n",
       "      <td>අහංසා</td>\n",
       "      <td>Female</td>\n",
       "    </tr>\n",
       "  </tbody>\n",
       "</table>\n",
       "</div>"
      ],
      "text/plain": [
       "         Name  Gender\n",
       "0  අචින්ත්‍යා  Female\n",
       "1     අදිශානි  Female\n",
       "2       අදිති  Female\n",
       "3     අග්රානි  Female\n",
       "4       අහංසා  Female"
      ]
     },
     "execution_count": 399,
     "metadata": {},
     "output_type": "execute_result"
    }
   ],
   "source": [
    "df.head()"
   ]
  },
  {
   "cell_type": "code",
   "execution_count": 400,
   "metadata": {},
   "outputs": [
    {
     "data": {
      "text/plain": [
       "3676"
      ]
     },
     "execution_count": 400,
     "metadata": {},
     "output_type": "execute_result"
    }
   ],
   "source": [
    "df.size"
   ]
  },
  {
   "cell_type": "code",
   "execution_count": 401,
   "metadata": {},
   "outputs": [
    {
     "data": {
      "text/plain": [
       "Index(['Name', 'Gender'], dtype='object')"
      ]
     },
     "execution_count": 401,
     "metadata": {},
     "output_type": "execute_result"
    }
   ],
   "source": [
    "#Data cleaning\n",
    "#Checking for column name consistency\n",
    "df.columns"
   ]
  },
  {
   "cell_type": "code",
   "execution_count": 402,
   "metadata": {},
   "outputs": [
    {
     "data": {
      "text/plain": [
       "Name      object\n",
       "Gender    object\n",
       "dtype: object"
      ]
     },
     "execution_count": 402,
     "metadata": {},
     "output_type": "execute_result"
    }
   ],
   "source": [
    "#Data Type\n",
    "df.dtypes"
   ]
  },
  {
   "cell_type": "code",
   "execution_count": 403,
   "metadata": {},
   "outputs": [
    {
     "data": {
      "text/plain": [
       "1802"
      ]
     },
     "execution_count": 403,
     "metadata": {},
     "output_type": "execute_result"
    }
   ],
   "source": [
    "#Numer of female names\n",
    "df[df.Gender == 'Female'].size"
   ]
  },
  {
   "cell_type": "code",
   "execution_count": 404,
   "metadata": {},
   "outputs": [
    {
     "data": {
      "text/plain": [
       "1874"
      ]
     },
     "execution_count": 404,
     "metadata": {},
     "output_type": "execute_result"
    }
   ],
   "source": [
    "#Numer of male names\n",
    "df[df.Gender == 'Male'].size"
   ]
  },
  {
   "cell_type": "code",
   "execution_count": 405,
   "metadata": {},
   "outputs": [],
   "source": [
    "df_names = df"
   ]
  },
  {
   "cell_type": "code",
   "execution_count": 406,
   "metadata": {},
   "outputs": [],
   "source": [
    "df_names.Gender.replace({'Female':0, 'Male':1}, inplace=True)"
   ]
  },
  {
   "cell_type": "code",
   "execution_count": 407,
   "metadata": {},
   "outputs": [
    {
     "data": {
      "text/plain": [
       "array([0, 1], dtype=int64)"
      ]
     },
     "execution_count": 407,
     "metadata": {},
     "output_type": "execute_result"
    }
   ],
   "source": [
    "df_names.Gender.unique()"
   ]
  },
  {
   "cell_type": "code",
   "execution_count": 408,
   "metadata": {},
   "outputs": [
    {
     "data": {
      "text/plain": [
       "Name      object\n",
       "Gender     int64\n",
       "dtype: object"
      ]
     },
     "execution_count": 408,
     "metadata": {},
     "output_type": "execute_result"
    }
   ],
   "source": [
    "df_names.dtypes"
   ]
  },
  {
   "cell_type": "code",
   "execution_count": 409,
   "metadata": {},
   "outputs": [],
   "source": [
    "Xfeatures = df_names['Name']"
   ]
  },
  {
   "cell_type": "code",
   "execution_count": 428,
   "metadata": {},
   "outputs": [],
   "source": [
    "#Feature Extraction\n",
    "cv = CountVectorizer(encoding='utf-8')\n",
    "X = cv.fit_transform(Xfeatures)"
   ]
  },
  {
   "cell_type": "code",
   "execution_count": 429,
   "metadata": {},
   "outputs": [
    {
     "data": {
      "text/plain": [
       "['අක',\n",
       " 'අග',\n",
       " 'අගත',\n",
       " 'අගශ',\n",
       " 'අච',\n",
       " 'අත',\n",
       " 'අද',\n",
       " 'අන',\n",
       " 'අනග',\n",
       " 'අනන',\n",
       " 'අප',\n",
       " 'අබ',\n",
       " 'අභ',\n",
       " 'අම',\n",
       " 'අමන',\n",
       " 'අමය',\n",
       " 'අමල',\n",
       " 'අය',\n",
       " 'අයන',\n",
       " 'අර',\n",
       " 'අරයන',\n",
       " 'අරල',\n",
       " 'අශ',\n",
       " 'අස',\n",
       " 'අහ',\n",
       " 'අහර',\n",
       " 'අහස',\n",
       " 'ආකර',\n",
       " 'ආදම',\n",
       " 'ආන',\n",
       " 'ආය',\n",
       " 'ආරද',\n",
       " 'ආල',\n",
       " 'ආශ',\n",
       " 'ඇන',\n",
       " 'ඉත',\n",
       " 'ඉන',\n",
       " 'ඉඳ',\n",
       " 'ඉම',\n",
       " 'ඉමන',\n",
       " 'ඉමය',\n",
       " 'ඉර',\n",
       " 'ඉරෂ',\n",
       " 'ඉල',\n",
       " 'ඉෂ',\n",
       " 'ඉස',\n",
       " 'ඉසල',\n",
       " 'ඊඩන',\n",
       " 'ඊතන',\n",
       " 'උත',\n",
       " 'උද',\n",
       " 'උප',\n",
       " 'උම',\n",
       " 'උව',\n",
       " 'උවන',\n",
       " 'උෂ',\n",
       " 'ඌව',\n",
       " 'එත',\n",
       " 'එන',\n",
       " 'එම',\n",
       " 'එමල',\n",
       " 'එර',\n",
       " 'එරන',\n",
       " 'එෂ',\n",
       " 'එෂල',\n",
       " 'එසන',\n",
       " 'එසඳ',\n",
       " 'ඒන',\n",
       " 'ඔක',\n",
       " 'ඔකඳ',\n",
       " 'ඔන',\n",
       " 'ඔම',\n",
       " 'ඔමල',\n",
       " 'ඔල',\n",
       " 'ඔව',\n",
       " 'ඔශ',\n",
       " 'ඔෂ',\n",
       " 'ඔස',\n",
       " 'ඔසන',\n",
       " 'ඕව',\n",
       " 'ඕෂ',\n",
       " 'ඕෂද',\n",
       " 'කන',\n",
       " 'කය',\n",
       " 'කල',\n",
       " 'කව',\n",
       " 'ගග',\n",
       " 'ගගන',\n",
       " 'ගද',\n",
       " 'ගන',\n",
       " 'ගය',\n",
       " 'ගයත',\n",
       " 'ගර',\n",
       " 'ගව',\n",
       " 'චක',\n",
       " 'චත',\n",
       " 'චන',\n",
       " 'චම',\n",
       " 'චමත',\n",
       " 'චමද',\n",
       " 'චමල',\n",
       " 'ජන',\n",
       " 'ජය',\n",
       " 'ජයන',\n",
       " 'ජයම',\n",
       " 'ජයව',\n",
       " 'ජල',\n",
       " 'ජස',\n",
       " 'ටන',\n",
       " 'ඩන',\n",
       " 'ඩය',\n",
       " 'ණද',\n",
       " 'තක',\n",
       " 'තජ',\n",
       " 'තත',\n",
       " 'තන',\n",
       " 'තනක',\n",
       " 'තනව',\n",
       " 'තම',\n",
       " 'තමල',\n",
       " 'තමෂ',\n",
       " 'තර',\n",
       " 'තව',\n",
       " 'තශ',\n",
       " 'තෂ',\n",
       " 'තස',\n",
       " 'දක',\n",
       " 'දන',\n",
       " 'දනර',\n",
       " 'දම',\n",
       " 'දර',\n",
       " 'දස',\n",
       " 'දහම',\n",
       " 'ධන',\n",
       " 'නක',\n",
       " 'නජ',\n",
       " 'නත',\n",
       " 'නතන',\n",
       " 'නද',\n",
       " 'නන',\n",
       " 'නම',\n",
       " 'නය',\n",
       " 'නර',\n",
       " 'නල',\n",
       " 'නව',\n",
       " 'නවන',\n",
       " 'නෂ',\n",
       " 'නසර',\n",
       " 'පන',\n",
       " 'පම',\n",
       " 'පව',\n",
       " 'පවර',\n",
       " 'පස',\n",
       " 'පසන',\n",
       " 'පසඳ',\n",
       " 'පහන',\n",
       " 'බත',\n",
       " 'බව',\n",
       " 'බෂ',\n",
       " 'මග',\n",
       " 'මත',\n",
       " 'මද',\n",
       " 'මධ',\n",
       " 'මන',\n",
       " 'මප',\n",
       " 'මය',\n",
       " 'මර',\n",
       " 'මල',\n",
       " 'මස',\n",
       " 'මහ',\n",
       " 'යත',\n",
       " 'යන',\n",
       " 'යපත',\n",
       " 'යම',\n",
       " 'යල',\n",
       " 'යශ',\n",
       " 'යස',\n",
       " 'යසඳ',\n",
       " 'යසම',\n",
       " 'යසස',\n",
       " 'රක',\n",
       " 'රණ',\n",
       " 'රත',\n",
       " 'රද',\n",
       " 'රන',\n",
       " 'රභ',\n",
       " 'රම',\n",
       " 'රමල',\n",
       " 'රය',\n",
       " 'රල',\n",
       " 'රව',\n",
       " 'රශ',\n",
       " 'රෂ',\n",
       " 'රස',\n",
       " 'රසද',\n",
       " 'ලක',\n",
       " 'ලන',\n",
       " 'ලනක',\n",
       " 'ලම',\n",
       " 'ලයන',\n",
       " 'ලව',\n",
       " 'ලස',\n",
       " 'ලසල',\n",
       " 'වක',\n",
       " 'වත',\n",
       " 'වන',\n",
       " 'වර',\n",
       " 'වල',\n",
       " 'වසර',\n",
       " 'වහස',\n",
       " 'ශන',\n",
       " 'ශම',\n",
       " 'ශය',\n",
       " 'ශල',\n",
       " 'ශලන',\n",
       " 'ශව',\n",
       " 'ශෂ',\n",
       " 'ෂණ',\n",
       " 'ෂර',\n",
       " 'ෂල',\n",
       " 'ෂලන',\n",
       " 'ෂෂ',\n",
       " 'ෂහ',\n",
       " 'සක',\n",
       " 'සග',\n",
       " 'සච',\n",
       " 'සජ',\n",
       " 'සජන',\n",
       " 'සත',\n",
       " 'සද',\n",
       " 'සන',\n",
       " 'සඳ',\n",
       " 'සඳන',\n",
       " 'සඳප',\n",
       " 'සඳම',\n",
       " 'සඳය',\n",
       " 'සඳල',\n",
       " 'සඳස',\n",
       " 'සම',\n",
       " 'සමල',\n",
       " 'සය',\n",
       " 'සර',\n",
       " 'සරණ',\n",
       " 'සල',\n",
       " 'සව',\n",
       " 'සවන',\n",
       " 'සෂ',\n",
       " 'සස',\n",
       " 'සසන',\n",
       " 'සහ',\n",
       " 'හක',\n",
       " 'හග',\n",
       " 'හඟ',\n",
       " 'හත',\n",
       " 'හන',\n",
       " 'හර',\n",
       " 'හල',\n",
       " 'හස',\n",
       " 'හසන',\n",
       " 'හසරන']"
      ]
     },
     "execution_count": 429,
     "metadata": {},
     "output_type": "execute_result"
    }
   ],
   "source": [
    "cv.get_feature_names()"
   ]
  },
  {
   "cell_type": "code",
   "execution_count": 430,
   "metadata": {},
   "outputs": [],
   "source": [
    "from sklearn.model_selection import train_test_split"
   ]
  },
  {
   "cell_type": "code",
   "execution_count": 431,
   "metadata": {},
   "outputs": [],
   "source": [
    "#Features\n",
    "X\n",
    "#Labels\n",
    "y = df_names.Gender"
   ]
  },
  {
   "cell_type": "code",
   "execution_count": 432,
   "metadata": {},
   "outputs": [],
   "source": [
    "X_train, X_test, y_train, y_test = train_test_split(X,y, test_size=0.33, random_state =42)"
   ]
  },
  {
   "cell_type": "code",
   "execution_count": 433,
   "metadata": {},
   "outputs": [
    {
     "data": {
      "text/plain": [
       "0.5123558484349259"
      ]
     },
     "execution_count": 433,
     "metadata": {},
     "output_type": "execute_result"
    }
   ],
   "source": [
    "#Naive Bayes Classifier \n",
    "from sklearn.naive_bayes import MultinomialNB\n",
    "clf = MultinomialNB()\n",
    "clf.fit(X_train, y_train)\n",
    "clf.score(X_test, y_test)"
   ]
  },
  {
   "cell_type": "code",
   "execution_count": 434,
   "metadata": {},
   "outputs": [
    {
     "name": "stdout",
     "output_type": "stream",
     "text": [
      "Accuracy of Model 51.23558484349259 %\n"
     ]
    }
   ],
   "source": [
    "#Accuracy of our model \n",
    "print(\"Accuracy of Model\", clf.score(X_test, y_test)*100, '%')"
   ]
  },
  {
   "cell_type": "code",
   "execution_count": 435,
   "metadata": {},
   "outputs": [
    {
     "name": "stdout",
     "output_type": "stream",
     "text": [
      "Accuracy of Model 64.74411047928513 %\n"
     ]
    }
   ],
   "source": [
    "#Accuracy of our model \n",
    "print(\"Accuracy of Model\", clf.score(X_train, y_train)*100, '%')"
   ]
  },
  {
   "cell_type": "code",
   "execution_count": 442,
   "metadata": {},
   "outputs": [],
   "source": [
    "#sample prediction\n",
    "sample_name = ['නෙතුනි']\n",
    "vect = cv.transform(sample_name).toarray()"
   ]
  },
  {
   "cell_type": "code",
   "execution_count": 443,
   "metadata": {},
   "outputs": [
    {
     "data": {
      "text/plain": [
       "array([[0, 0, 0, 0, 0, 0, 0, 0, 0, 0, 0, 0, 0, 0, 0, 0, 0, 0, 0, 0, 0, 0,\n",
       "        0, 0, 0, 0, 0, 0, 0, 0, 0, 0, 0, 0, 0, 0, 0, 0, 0, 0, 0, 0, 0, 0,\n",
       "        0, 0, 0, 0, 0, 0, 0, 0, 0, 0, 0, 0, 0, 0, 0, 0, 0, 0, 0, 0, 0, 0,\n",
       "        0, 0, 0, 0, 0, 0, 0, 0, 0, 0, 0, 0, 0, 0, 0, 0, 0, 0, 0, 0, 0, 0,\n",
       "        0, 0, 0, 0, 0, 0, 0, 0, 0, 0, 0, 0, 0, 0, 0, 0, 0, 0, 0, 0, 0, 0,\n",
       "        0, 0, 0, 0, 0, 0, 0, 0, 0, 0, 0, 0, 0, 0, 0, 0, 0, 0, 0, 0, 0, 0,\n",
       "        0, 0, 0, 0, 0, 0, 0, 0, 0, 0, 0, 0, 0, 0, 0, 0, 0, 0, 0, 0, 0, 0,\n",
       "        0, 0, 0, 0, 0, 0, 0, 0, 0, 0, 0, 0, 0, 0, 0, 0, 0, 0, 0, 0, 0, 0,\n",
       "        0, 0, 0, 0, 0, 0, 0, 0, 0, 0, 0, 0, 0, 0, 0, 0, 0, 0, 0, 0, 0, 0,\n",
       "        0, 0, 0, 0, 0, 0, 0, 0, 0, 0, 0, 0, 0, 0, 0, 0, 0, 0, 0, 0, 0, 0,\n",
       "        0, 0, 0, 0, 0, 0, 0, 0, 0, 0, 0, 0, 0, 0, 0, 0, 0, 0, 0, 0, 0, 0,\n",
       "        0, 0, 0, 0, 0, 0, 0, 0, 0, 0, 0, 0, 0, 0, 0, 0, 0, 0]],\n",
       "      dtype=int64)"
      ]
     },
     "execution_count": 443,
     "metadata": {},
     "output_type": "execute_result"
    }
   ],
   "source": [
    "vect"
   ]
  },
  {
   "cell_type": "code",
   "execution_count": 445,
   "metadata": {},
   "outputs": [
    {
     "data": {
      "text/plain": [
       "array([0], dtype=int64)"
      ]
     },
     "execution_count": 445,
     "metadata": {},
     "output_type": "execute_result"
    }
   ],
   "source": [
    "clf.predict(vect)"
   ]
  },
  {
   "cell_type": "code",
   "execution_count": 446,
   "metadata": {},
   "outputs": [
    {
     "data": {
      "text/plain": [
       "array([[0, 0, 0, 0, 0, 0, 0, 0, 0, 0, 0, 0, 0, 0, 0, 0, 0, 0, 0, 0, 0, 0,\n",
       "        0, 0, 0, 0, 0, 0, 0, 0, 0, 0, 0, 0, 0, 0, 0, 0, 0, 0, 0, 0, 0, 0,\n",
       "        0, 0, 0, 0, 0, 0, 0, 0, 0, 0, 0, 0, 0, 0, 0, 0, 0, 0, 0, 0, 0, 0,\n",
       "        0, 0, 0, 0, 0, 0, 0, 0, 0, 0, 0, 0, 0, 0, 0, 0, 0, 0, 0, 0, 0, 0,\n",
       "        0, 0, 0, 0, 0, 0, 0, 0, 0, 0, 0, 0, 0, 0, 0, 0, 0, 0, 0, 0, 0, 0,\n",
       "        0, 0, 0, 0, 0, 0, 0, 0, 0, 0, 0, 0, 0, 0, 0, 0, 0, 0, 0, 0, 0, 0,\n",
       "        0, 0, 0, 0, 0, 0, 0, 0, 0, 0, 0, 0, 0, 0, 0, 0, 0, 0, 0, 0, 0, 0,\n",
       "        0, 0, 0, 0, 0, 0, 0, 0, 0, 0, 0, 0, 0, 0, 0, 0, 0, 0, 0, 0, 0, 0,\n",
       "        0, 0, 0, 0, 0, 0, 0, 0, 0, 0, 0, 0, 0, 0, 0, 0, 0, 0, 0, 0, 0, 0,\n",
       "        0, 0, 0, 0, 0, 0, 0, 0, 0, 0, 0, 0, 0, 0, 0, 0, 0, 0, 0, 0, 0, 0,\n",
       "        0, 0, 0, 0, 0, 0, 0, 0, 0, 0, 0, 0, 0, 0, 0, 0, 0, 0, 0, 0, 0, 0,\n",
       "        0, 0, 0, 0, 0, 0, 0, 0, 0, 0, 0, 0, 0, 0, 0, 0, 0, 0]],\n",
       "      dtype=int64)"
      ]
     },
     "execution_count": 446,
     "metadata": {},
     "output_type": "execute_result"
    }
   ],
   "source": [
    "#sample prediction2\n",
    "sample_name1 = ['දිනේෂ්']\n",
    "vect1 = cv.transform(sample_name1).toarray()\n",
    "vect1"
   ]
  },
  {
   "cell_type": "code",
   "execution_count": 422,
   "metadata": {},
   "outputs": [],
   "source": [
    "from sklearn import metrics"
   ]
  },
  {
   "cell_type": "code",
   "execution_count": 423,
   "metadata": {},
   "outputs": [],
   "source": [
    "from sklearn.metrics import confusion_matrix, precision_score, recall_score,f1_score"
   ]
  },
  {
   "cell_type": "code",
   "execution_count": 424,
   "metadata": {},
   "outputs": [
    {
     "ename": "ValueError",
     "evalue": "Classification metrics can't handle a mix of multilabel-indicator and binary targets",
     "output_type": "error",
     "traceback": [
      "\u001b[1;31m---------------------------------------------------------------------------\u001b[0m",
      "\u001b[1;31mValueError\u001b[0m                                Traceback (most recent call last)",
      "\u001b[1;32m<ipython-input-424-010dde151ea5>\u001b[0m in \u001b[0;36m<module>\u001b[1;34m\u001b[0m\n\u001b[1;32m----> 1\u001b[1;33m \u001b[0mprint\u001b[0m\u001b[1;33m(\u001b[0m\u001b[0mmetrics\u001b[0m\u001b[1;33m.\u001b[0m\u001b[0mconfusion_matrix\u001b[0m\u001b[1;33m(\u001b[0m\u001b[0mX_train\u001b[0m\u001b[1;33m,\u001b[0m \u001b[0my_train\u001b[0m\u001b[1;33m)\u001b[0m\u001b[1;33m)\u001b[0m\u001b[1;33m\u001b[0m\u001b[1;33m\u001b[0m\u001b[0m\n\u001b[0m",
      "\u001b[1;32mc:\\users\\user\\opencv\\lib\\site-packages\\sklearn\\utils\\validation.py\u001b[0m in \u001b[0;36minner_f\u001b[1;34m(*args, **kwargs)\u001b[0m\n\u001b[0;32m     70\u001b[0m                           FutureWarning)\n\u001b[0;32m     71\u001b[0m         \u001b[0mkwargs\u001b[0m\u001b[1;33m.\u001b[0m\u001b[0mupdate\u001b[0m\u001b[1;33m(\u001b[0m\u001b[1;33m{\u001b[0m\u001b[0mk\u001b[0m\u001b[1;33m:\u001b[0m \u001b[0marg\u001b[0m \u001b[1;32mfor\u001b[0m \u001b[0mk\u001b[0m\u001b[1;33m,\u001b[0m \u001b[0marg\u001b[0m \u001b[1;32min\u001b[0m \u001b[0mzip\u001b[0m\u001b[1;33m(\u001b[0m\u001b[0msig\u001b[0m\u001b[1;33m.\u001b[0m\u001b[0mparameters\u001b[0m\u001b[1;33m,\u001b[0m \u001b[0margs\u001b[0m\u001b[1;33m)\u001b[0m\u001b[1;33m}\u001b[0m\u001b[1;33m)\u001b[0m\u001b[1;33m\u001b[0m\u001b[1;33m\u001b[0m\u001b[0m\n\u001b[1;32m---> 72\u001b[1;33m         \u001b[1;32mreturn\u001b[0m \u001b[0mf\u001b[0m\u001b[1;33m(\u001b[0m\u001b[1;33m**\u001b[0m\u001b[0mkwargs\u001b[0m\u001b[1;33m)\u001b[0m\u001b[1;33m\u001b[0m\u001b[1;33m\u001b[0m\u001b[0m\n\u001b[0m\u001b[0;32m     73\u001b[0m     \u001b[1;32mreturn\u001b[0m \u001b[0minner_f\u001b[0m\u001b[1;33m\u001b[0m\u001b[1;33m\u001b[0m\u001b[0m\n\u001b[0;32m     74\u001b[0m \u001b[1;33m\u001b[0m\u001b[0m\n",
      "\u001b[1;32mc:\\users\\user\\opencv\\lib\\site-packages\\sklearn\\metrics\\_classification.py\u001b[0m in \u001b[0;36mconfusion_matrix\u001b[1;34m(y_true, y_pred, labels, sample_weight, normalize)\u001b[0m\n\u001b[0;32m    274\u001b[0m \u001b[1;33m\u001b[0m\u001b[0m\n\u001b[0;32m    275\u001b[0m     \"\"\"\n\u001b[1;32m--> 276\u001b[1;33m     \u001b[0my_type\u001b[0m\u001b[1;33m,\u001b[0m \u001b[0my_true\u001b[0m\u001b[1;33m,\u001b[0m \u001b[0my_pred\u001b[0m \u001b[1;33m=\u001b[0m \u001b[0m_check_targets\u001b[0m\u001b[1;33m(\u001b[0m\u001b[0my_true\u001b[0m\u001b[1;33m,\u001b[0m \u001b[0my_pred\u001b[0m\u001b[1;33m)\u001b[0m\u001b[1;33m\u001b[0m\u001b[1;33m\u001b[0m\u001b[0m\n\u001b[0m\u001b[0;32m    277\u001b[0m     \u001b[1;32mif\u001b[0m \u001b[0my_type\u001b[0m \u001b[1;32mnot\u001b[0m \u001b[1;32min\u001b[0m \u001b[1;33m(\u001b[0m\u001b[1;34m\"binary\"\u001b[0m\u001b[1;33m,\u001b[0m \u001b[1;34m\"multiclass\"\u001b[0m\u001b[1;33m)\u001b[0m\u001b[1;33m:\u001b[0m\u001b[1;33m\u001b[0m\u001b[1;33m\u001b[0m\u001b[0m\n\u001b[0;32m    278\u001b[0m         \u001b[1;32mraise\u001b[0m \u001b[0mValueError\u001b[0m\u001b[1;33m(\u001b[0m\u001b[1;34m\"%s is not supported\"\u001b[0m \u001b[1;33m%\u001b[0m \u001b[0my_type\u001b[0m\u001b[1;33m)\u001b[0m\u001b[1;33m\u001b[0m\u001b[1;33m\u001b[0m\u001b[0m\n",
      "\u001b[1;32mc:\\users\\user\\opencv\\lib\\site-packages\\sklearn\\metrics\\_classification.py\u001b[0m in \u001b[0;36m_check_targets\u001b[1;34m(y_true, y_pred)\u001b[0m\n\u001b[0;32m     89\u001b[0m     \u001b[1;32mif\u001b[0m \u001b[0mlen\u001b[0m\u001b[1;33m(\u001b[0m\u001b[0my_type\u001b[0m\u001b[1;33m)\u001b[0m \u001b[1;33m>\u001b[0m \u001b[1;36m1\u001b[0m\u001b[1;33m:\u001b[0m\u001b[1;33m\u001b[0m\u001b[1;33m\u001b[0m\u001b[0m\n\u001b[0;32m     90\u001b[0m         raise ValueError(\"Classification metrics can't handle a mix of {0} \"\n\u001b[1;32m---> 91\u001b[1;33m                          \"and {1} targets\".format(type_true, type_pred))\n\u001b[0m\u001b[0;32m     92\u001b[0m \u001b[1;33m\u001b[0m\u001b[0m\n\u001b[0;32m     93\u001b[0m     \u001b[1;31m# We can't have more than one value on y_type => The set is no more needed\u001b[0m\u001b[1;33m\u001b[0m\u001b[1;33m\u001b[0m\u001b[1;33m\u001b[0m\u001b[0m\n",
      "\u001b[1;31mValueError\u001b[0m: Classification metrics can't handle a mix of multilabel-indicator and binary targets"
     ]
    }
   ],
   "source": [
    "print(metrics.confusion_matrix(X_train, y_train))"
   ]
  },
  {
   "cell_type": "code",
   "execution_count": null,
   "metadata": {},
   "outputs": [],
   "source": []
  },
  {
   "cell_type": "code",
   "execution_count": 354,
   "metadata": {},
   "outputs": [],
   "source": [
    "def genderPredictor(a):\n",
    "    test_name = [a]\n",
    "    vector = cv.transform(test_name).toarray()\n",
    "    if clf.predict(vector) == 0:\n",
    "        print('Female')\n",
    "    else:\n",
    "        print('Male')\n"
   ]
  },
  {
   "cell_type": "code",
   "execution_count": 425,
   "metadata": {},
   "outputs": [
    {
     "name": "stdout",
     "output_type": "stream",
     "text": [
      "Female\n"
     ]
    }
   ],
   "source": [
    "genderPredictor(\"රිද්මාලි\")"
   ]
  },
  {
   "cell_type": "code",
   "execution_count": 426,
   "metadata": {},
   "outputs": [
    {
     "name": "stdout",
     "output_type": "stream",
     "text": [
      "Male\n",
      "None\n",
      "Male\n",
      "None\n",
      "Female\n",
      "None\n",
      "Male\n",
      "None\n"
     ]
    }
   ],
   "source": [
    "name_list = [\"ඇලෙක්ස්\",\"ශලීෂා\", \"සුසිතා\", \"නිර්මාල්\"]\n",
    "for n in name_list:\n",
    "    print (genderPredictor1(n))"
   ]
  },
  {
   "cell_type": "code",
   "execution_count": 357,
   "metadata": {},
   "outputs": [],
   "source": [
    "#Using a custom function for feature analysis\n",
    "#By Analogy that most of the female names ends in 'A'  or  'I' or has the sound of 'A'\n",
    "def features(name):\n",
    "    name=name.lower()\n",
    "    return{\n",
    "        'first-letter': name[0], #first letter\n",
    "        'first2-letters': name[0:2], #first 2 letters\n",
    "        'first3-letters': name[0:3], #first3 letters\n",
    "        'last-letter': name[-1], #last letter\n",
    "        'last2-letters': name[-2:], #last2 letters\n",
    "        'last3-letters': name[-3:], #last3 letters\n",
    "    }"
   ]
  },
  {
   "cell_type": "code",
   "execution_count": 358,
   "metadata": {},
   "outputs": [
    {
     "name": "stdout",
     "output_type": "stream",
     "text": [
      "[{'first-letter': 'ක', 'first2-letters': 'කස', 'first3-letters': 'කසු', 'last-letter': 'ි', 'last2-letters': 'නි', 'last3-letters': 'ුනි'}\n",
      " {'first-letter': 'න', 'first2-letters': 'නව', 'first3-letters': 'නවං', 'last-letter': 'ා', 'last2-letters': 'නා', 'last3-letters': 'ජනා'}\n",
      " {'first-letter': 'ස', 'first2-letters': 'සන', 'first3-letters': 'සන්', 'last-letter': '්', 'last2-letters': 'ෂ්', 'last3-letters': 'ුෂ්'}\n",
      " {'first-letter': 'භ', 'first2-letters': 'භා', 'first3-letters': 'භාත', 'last-letter': 'ය', 'last2-letters': 'ිය', 'last3-letters': 'තිය'}]\n"
     ]
    }
   ],
   "source": [
    "#Vectorize the features function\n",
    "features = np.vectorize(features)\n",
    "print(features(['කසුනි', 'නවංජනා', 'සන්තුෂ්', 'භාතිය']))"
   ]
  },
  {
   "cell_type": "code",
   "execution_count": 368,
   "metadata": {},
   "outputs": [],
   "source": [
    "#Extract the features for the dataset\n",
    "df_X = features(df_names['Name'])\n",
    "df_y = df_names['Gender']"
   ]
  },
  {
   "cell_type": "code",
   "execution_count": 369,
   "metadata": {},
   "outputs": [
    {
     "name": "stdout",
     "output_type": "stream",
     "text": [
      "  (0, 0)\t1.0\n",
      "  (0, 2)\t1.0\n",
      "  (0, 4)\t1.0\n",
      "  (0, 7)\t1.0\n",
      "  (0, 8)\t1.0\n",
      "  (0, 10)\t1.0\n",
      "  (1, 1)\t1.0\n",
      "  (1, 3)\t1.0\n",
      "  (1, 5)\t1.0\n",
      "  (1, 6)\t1.0\n",
      "  (1, 9)\t1.0\n",
      "  (1, 11)\t1.0\n"
     ]
    }
   ],
   "source": [
    "from sklearn.feature_extraction import DictVectorizer\n",
    "corpus = features(['කසුනි','සන්තුෂ්'])\n",
    "dv = DictVectorizer()\n",
    "dv.fit(corpus)\n",
    "transformed = dv.transform(corpus)\n",
    "print(transformed)"
   ]
  },
  {
   "cell_type": "code",
   "execution_count": 370,
   "metadata": {},
   "outputs": [
    {
     "data": {
      "text/plain": [
       "['first-letter=ක',\n",
       " 'first-letter=ස',\n",
       " 'first2-letters=කස',\n",
       " 'first2-letters=සන',\n",
       " 'first3-letters=කසු',\n",
       " 'first3-letters=සන්',\n",
       " 'last-letter=්',\n",
       " 'last-letter=ි',\n",
       " 'last2-letters=නි',\n",
       " 'last2-letters=ෂ්',\n",
       " 'last3-letters=ුනි',\n",
       " 'last3-letters=ුෂ්']"
      ]
     },
     "execution_count": 370,
     "metadata": {},
     "output_type": "execute_result"
    }
   ],
   "source": [
    "dv.get_feature_names()"
   ]
  },
  {
   "cell_type": "code",
   "execution_count": 371,
   "metadata": {},
   "outputs": [],
   "source": [
    "dfX_train, dfX_test, dfy_train, dfy_test = train_test_split(df_X,df_y, test_size=0.33, random_state=42)"
   ]
  },
  {
   "cell_type": "code",
   "execution_count": 372,
   "metadata": {},
   "outputs": [
    {
     "data": {
      "text/plain": [
       "array([{'first-letter': 'න', 'first2-letters': 'නෙ', 'first3-letters': 'නෙස', 'last-letter': 'ි', 'last2-letters': 'දි', 'last3-letters': '්දි'},\n",
       "       {'first-letter': 'බ', 'first2-letters': 'බි', 'first3-letters': 'බිල', 'last-letter': 'ා', 'last2-letters': 'කා', 'last3-letters': 'ංකා'},\n",
       "       {'first-letter': 'න', 'first2-letters': 'නෂ', 'first3-letters': 'නෂ්', 'last-letter': 'ක', 'last2-letters': 'ික', 'last3-letters': 'මික'},\n",
       "       ...,\n",
       "       {'first-letter': 'ව', 'first2-letters': 'වි', 'first3-letters': 'විර', 'last-letter': 'ි', 'last2-letters': 'ගි', 'last3-letters': 'ංගි'},\n",
       "       {'first-letter': 'ප', 'first2-letters': 'පව', 'first3-letters': 'පවර', 'last-letter': 'ර', 'last2-letters': 'වර', 'last3-letters': 'පවර'},\n",
       "       {'first-letter': 'ද', 'first2-letters': 'දු', 'first3-letters': 'දුම', 'last-letter': 'ෂ', 'last2-letters': '්ෂ', 'last3-letters': 'ල්ෂ'}],\n",
       "      dtype=object)"
      ]
     },
     "execution_count": 372,
     "metadata": {},
     "output_type": "execute_result"
    }
   ],
   "source": [
    "dfX_train"
   ]
  },
  {
   "cell_type": "code",
   "execution_count": 373,
   "metadata": {},
   "outputs": [
    {
     "data": {
      "text/plain": [
       "<1231x1370 sparse matrix of type '<class 'numpy.float64'>'\n",
       "\twith 7386 stored elements in Compressed Sparse Row format>"
      ]
     },
     "execution_count": 373,
     "metadata": {},
     "output_type": "execute_result"
    }
   ],
   "source": [
    "dv = DictVectorizer()\n",
    "dv.fit_transform(dfX_train)"
   ]
  },
  {
   "cell_type": "code",
   "execution_count": 374,
   "metadata": {},
   "outputs": [
    {
     "data": {
      "text/plain": [
       "DecisionTreeClassifier()"
      ]
     },
     "execution_count": 374,
     "metadata": {},
     "output_type": "execute_result"
    }
   ],
   "source": [
    "#Model building Using Dictionaries\n",
    "from sklearn.tree import DecisionTreeClassifier\n",
    "dclf= DecisionTreeClassifier()\n",
    "my_xfeatures = dv.transform(dfX_train)\n",
    "dclf.fit(my_xfeatures, dfy_train)"
   ]
  },
  {
   "cell_type": "code",
   "execution_count": 375,
   "metadata": {},
   "outputs": [
    {
     "data": {
      "text/plain": [
       "DecisionTreeClassifier()"
      ]
     },
     "execution_count": 375,
     "metadata": {},
     "output_type": "execute_result"
    }
   ],
   "source": [
    "DecisionTreeClassifier()"
   ]
  },
  {
   "cell_type": "code",
   "execution_count": 376,
   "metadata": {},
   "outputs": [],
   "source": [
    "#Build Features and Transform them\n",
    "sample_name_eg = ['භාතිය']\n",
    "transform_dv = dv.transform(features(sample_name_eg))"
   ]
  },
  {
   "cell_type": "code",
   "execution_count": 377,
   "metadata": {},
   "outputs": [],
   "source": [
    "vect3 = transform_dv.toarray()"
   ]
  },
  {
   "cell_type": "code",
   "execution_count": 378,
   "metadata": {},
   "outputs": [
    {
     "data": {
      "text/plain": [
       "array([0], dtype=int64)"
      ]
     },
     "execution_count": 378,
     "metadata": {},
     "output_type": "execute_result"
    }
   ],
   "source": [
    "#Predicting Gender of name\n",
    "#Male is 1, Female is 0\n",
    "dclf.predict(vect3)"
   ]
  },
  {
   "cell_type": "code",
   "execution_count": 379,
   "metadata": {},
   "outputs": [
    {
     "name": "stdout",
     "output_type": "stream",
     "text": [
      "Female\n"
     ]
    }
   ],
   "source": [
    "if dclf.predict(vect3) ==0:\n",
    "    print('Female')\n",
    "else:\n",
    "    print('Male')"
   ]
  },
  {
   "cell_type": "code",
   "execution_count": 380,
   "metadata": {},
   "outputs": [],
   "source": [
    "#A function to do it - Watch 13.26\n",
    "def genderPredictor1(a):\n",
    "    test_name1 = [a]\n",
    "    transform_dv = dv.transform(features(test_name1))\n",
    "    vector = transform_dv.toarray()\n",
    "    if dclf.predict(vector) == 0:\n",
    "        print('Female')\n",
    "    else:\n",
    "        print('Male')\n",
    "    "
   ]
  },
  {
   "cell_type": "code",
   "execution_count": 381,
   "metadata": {},
   "outputs": [],
   "source": [
    "random_name_list = [\"ඇලෙක්ස්\",\"ශලීෂා\", \"සුසිතා\", \"නිර්මාල්\"]"
   ]
  },
  {
   "cell_type": "code",
   "execution_count": 382,
   "metadata": {},
   "outputs": [
    {
     "name": "stdout",
     "output_type": "stream",
     "text": [
      "Male\n",
      "None\n",
      "Male\n",
      "None\n",
      "Female\n",
      "None\n",
      "Male\n",
      "None\n"
     ]
    }
   ],
   "source": [
    "for n in random_name_list:\n",
    "    print (genderPredictor1(n))"
   ]
  },
  {
   "cell_type": "code",
   "execution_count": 383,
   "metadata": {},
   "outputs": [
    {
     "name": "stdout",
     "output_type": "stream",
     "text": [
      "Accuracy of Model 0.9967506092607636\n"
     ]
    }
   ],
   "source": [
    "##Accuracy of models descision tree Classifier works better than Naive bayes\n",
    "#Accuracy on training set\n",
    "print(\"Accuracy of Model\", dclf.score(dv.transform(dfX_train), dfy_train))"
   ]
  },
  {
   "cell_type": "code",
   "execution_count": 384,
   "metadata": {},
   "outputs": [
    {
     "name": "stdout",
     "output_type": "stream",
     "text": [
      "Accuracy of Model 0.942339373970346\n"
     ]
    }
   ],
   "source": [
    "#Accuracy on test set\n",
    "print(\"Accuracy of Model\", dclf.score(dv.transform(dfX_test), dfy_test))"
   ]
  },
  {
   "cell_type": "code",
   "execution_count": 388,
   "metadata": {},
   "outputs": [
    {
     "ename": "AttributeError",
     "evalue": "'DecisionTreeClassifier' object has no attribute 'recall_score'",
     "output_type": "error",
     "traceback": [
      "\u001b[1;31m---------------------------------------------------------------------------\u001b[0m",
      "\u001b[1;31mAttributeError\u001b[0m                            Traceback (most recent call last)",
      "\u001b[1;32m<ipython-input-388-db0840514a67>\u001b[0m in \u001b[0;36m<module>\u001b[1;34m\u001b[0m\n\u001b[0;32m      1\u001b[0m \u001b[1;32mfrom\u001b[0m \u001b[0msklearn\u001b[0m\u001b[1;33m.\u001b[0m\u001b[0mmetrics\u001b[0m \u001b[1;32mimport\u001b[0m \u001b[0mprecision_score\u001b[0m\u001b[1;33m,\u001b[0m \u001b[0mrecall_score\u001b[0m\u001b[1;33m,\u001b[0m\u001b[0mf1_score\u001b[0m\u001b[1;33m\u001b[0m\u001b[1;33m\u001b[0m\u001b[0m\n\u001b[1;32m----> 2\u001b[1;33m \u001b[0mdclf\u001b[0m\u001b[1;33m.\u001b[0m\u001b[0mrecall_score\u001b[0m\u001b[1;33m(\u001b[0m\u001b[0mdv\u001b[0m\u001b[1;33m.\u001b[0m\u001b[0mtransform\u001b[0m\u001b[1;33m(\u001b[0m\u001b[0mdfX_test\u001b[0m\u001b[1;33m)\u001b[0m\u001b[1;33m,\u001b[0m \u001b[0mdfy_test\u001b[0m\u001b[1;33m)\u001b[0m\u001b[1;33m\u001b[0m\u001b[1;33m\u001b[0m\u001b[0m\n\u001b[0m",
      "\u001b[1;31mAttributeError\u001b[0m: 'DecisionTreeClassifier' object has no attribute 'recall_score'"
     ]
    }
   ],
   "source": [
    "from sklearn.metrics import precision_score, recall_score,f1_score\n",
    "dclf.recall_score(dv.transform(dfX_test), dfy_test)"
   ]
  },
  {
   "cell_type": "code",
   "execution_count": null,
   "metadata": {},
   "outputs": [],
   "source": []
  },
  {
   "cell_type": "code",
   "execution_count": 239,
   "metadata": {},
   "outputs": [],
   "source": [
    "#Saving our model\n",
    "import joblib"
   ]
  },
  {
   "cell_type": "code",
   "execution_count": 240,
   "metadata": {},
   "outputs": [],
   "source": [
    "decisiontreeModel = open(\"decisiontreemodel.pkl\",\"wb\")"
   ]
  },
  {
   "cell_type": "code",
   "execution_count": 241,
   "metadata": {},
   "outputs": [],
   "source": [
    "joblib.dump(dclf, decisiontreeModel)"
   ]
  },
  {
   "cell_type": "code",
   "execution_count": 242,
   "metadata": {},
   "outputs": [
    {
     "data": {
      "text/plain": [
       "<function BufferedWriter.close>"
      ]
     },
     "execution_count": 242,
     "metadata": {},
     "output_type": "execute_result"
    }
   ],
   "source": [
    "decisiontreeModel.close"
   ]
  },
  {
   "cell_type": "code",
   "execution_count": 243,
   "metadata": {},
   "outputs": [],
   "source": [
    "#Alternative model close\n",
    "import pickle"
   ]
  },
  {
   "cell_type": "code",
   "execution_count": 244,
   "metadata": {},
   "outputs": [],
   "source": [
    "dctreeModel = open(\"namesdetectoremodel.pkl\",\"wb\")\n",
    "pickle.dump(dclf, dctreeModel)"
   ]
  },
  {
   "cell_type": "code",
   "execution_count": 245,
   "metadata": {},
   "outputs": [],
   "source": [
    "dctreeModel.close()"
   ]
  },
  {
   "cell_type": "code",
   "execution_count": 246,
   "metadata": {},
   "outputs": [],
   "source": [
    "NaiveBayesModel = open(\"naivebayesgendermodel.pkl\",\"wb\")"
   ]
  },
  {
   "cell_type": "code",
   "execution_count": 247,
   "metadata": {},
   "outputs": [],
   "source": [
    "joblib.dump(clf, NaiveBayesModel)"
   ]
  },
  {
   "cell_type": "code",
   "execution_count": 248,
   "metadata": {},
   "outputs": [],
   "source": [
    "NaiveBayesModel.close()"
   ]
  },
  {
   "cell_type": "code",
   "execution_count": null,
   "metadata": {},
   "outputs": [],
   "source": []
  },
  {
   "cell_type": "code",
   "execution_count": null,
   "metadata": {},
   "outputs": [],
   "source": []
  }
 ],
 "metadata": {
  "kernelspec": {
   "display_name": "Python 3",
   "language": "python",
   "name": "python3"
  },
  "language_info": {
   "codemirror_mode": {
    "name": "ipython",
    "version": 3
   },
   "file_extension": ".py",
   "mimetype": "text/x-python",
   "name": "python",
   "nbconvert_exporter": "python",
   "pygments_lexer": "ipython3",
   "version": "3.7.4"
  }
 },
 "nbformat": 4,
 "nbformat_minor": 4
}
