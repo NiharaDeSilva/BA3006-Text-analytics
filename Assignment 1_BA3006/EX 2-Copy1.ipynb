{
 "cells": [
  {
   "cell_type": "code",
   "execution_count": 104,
   "metadata": {},
   "outputs": [],
   "source": [
    "import numpy as np"
   ]
  },
  {
   "cell_type": "code",
   "execution_count": 105,
   "metadata": {},
   "outputs": [],
   "source": [
    "import pandas as pd"
   ]
  },
  {
   "cell_type": "code",
   "execution_count": 106,
   "metadata": {},
   "outputs": [],
   "source": [
    "#ML Packages\n",
    "from sklearn.feature_extraction.text import CountVectorizer\n",
    "from sklearn.feature_extraction import DictVectorizer\n",
    "#from sklearn.feature_extraction.text import TfidfVectorizer"
   ]
  },
  {
   "cell_type": "code",
   "execution_count": 107,
   "metadata": {},
   "outputs": [],
   "source": [
    "#Load our data\n",
    "df = pd.read_csv('names_dataset.csv')"
   ]
  },
  {
   "cell_type": "code",
   "execution_count": 108,
   "metadata": {},
   "outputs": [
    {
     "data": {
      "text/html": [
       "<div>\n",
       "<style scoped>\n",
       "    .dataframe tbody tr th:only-of-type {\n",
       "        vertical-align: middle;\n",
       "    }\n",
       "\n",
       "    .dataframe tbody tr th {\n",
       "        vertical-align: top;\n",
       "    }\n",
       "\n",
       "    .dataframe thead th {\n",
       "        text-align: right;\n",
       "    }\n",
       "</style>\n",
       "<table border=\"1\" class=\"dataframe\">\n",
       "  <thead>\n",
       "    <tr style=\"text-align: right;\">\n",
       "      <th></th>\n",
       "      <th>Index</th>\n",
       "      <th>Name</th>\n",
       "      <th>Gender</th>\n",
       "    </tr>\n",
       "  </thead>\n",
       "  <tbody>\n",
       "    <tr>\n",
       "      <th>0</th>\n",
       "      <td>0</td>\n",
       "      <td>Achinthya</td>\n",
       "      <td>Female</td>\n",
       "    </tr>\n",
       "    <tr>\n",
       "      <th>1</th>\n",
       "      <td>1</td>\n",
       "      <td>Adele</td>\n",
       "      <td>Female</td>\n",
       "    </tr>\n",
       "    <tr>\n",
       "      <th>2</th>\n",
       "      <td>2</td>\n",
       "      <td>Adishani</td>\n",
       "      <td>Female</td>\n",
       "    </tr>\n",
       "    <tr>\n",
       "      <th>3</th>\n",
       "      <td>3</td>\n",
       "      <td>Adithi</td>\n",
       "      <td>Female</td>\n",
       "    </tr>\n",
       "    <tr>\n",
       "      <th>4</th>\n",
       "      <td>4</td>\n",
       "      <td>Agrani</td>\n",
       "      <td>Female</td>\n",
       "    </tr>\n",
       "  </tbody>\n",
       "</table>\n",
       "</div>"
      ],
      "text/plain": [
       "   Index       Name  Gender\n",
       "0      0  Achinthya  Female\n",
       "1      1      Adele  Female\n",
       "2      2   Adishani  Female\n",
       "3      3     Adithi  Female\n",
       "4      4     Agrani  Female"
      ]
     },
     "execution_count": 108,
     "metadata": {},
     "output_type": "execute_result"
    }
   ],
   "source": [
    "df.head()"
   ]
  },
  {
   "cell_type": "code",
   "execution_count": 109,
   "metadata": {},
   "outputs": [
    {
     "data": {
      "text/plain": [
       "5739"
      ]
     },
     "execution_count": 109,
     "metadata": {},
     "output_type": "execute_result"
    }
   ],
   "source": [
    "df.size"
   ]
  },
  {
   "cell_type": "code",
   "execution_count": 110,
   "metadata": {},
   "outputs": [
    {
     "data": {
      "text/plain": [
       "Index(['Index', 'Name', 'Gender'], dtype='object')"
      ]
     },
     "execution_count": 110,
     "metadata": {},
     "output_type": "execute_result"
    }
   ],
   "source": [
    "#Data cleaning\n",
    "#Checking for column name consistency\n",
    "df.columns"
   ]
  },
  {
   "cell_type": "code",
   "execution_count": 111,
   "metadata": {},
   "outputs": [
    {
     "data": {
      "text/plain": [
       "Index      int64\n",
       "Name      object\n",
       "Gender    object\n",
       "dtype: object"
      ]
     },
     "execution_count": 111,
     "metadata": {},
     "output_type": "execute_result"
    }
   ],
   "source": [
    "#Data Type\n",
    "df.dtypes"
   ]
  },
  {
   "cell_type": "code",
   "execution_count": 112,
   "metadata": {},
   "outputs": [
    {
     "data": {
      "text/plain": [
       "2736"
      ]
     },
     "execution_count": 112,
     "metadata": {},
     "output_type": "execute_result"
    }
   ],
   "source": [
    "#Numer of female names\n",
    "df[df.Gender == 'Female'].size"
   ]
  },
  {
   "cell_type": "code",
   "execution_count": 113,
   "metadata": {},
   "outputs": [
    {
     "data": {
      "text/plain": [
       "3003"
      ]
     },
     "execution_count": 113,
     "metadata": {},
     "output_type": "execute_result"
    }
   ],
   "source": [
    "#Numer of male names\n",
    "df[df.Gender == 'Male'].size"
   ]
  },
  {
   "cell_type": "code",
   "execution_count": 114,
   "metadata": {},
   "outputs": [],
   "source": [
    "df_names = df"
   ]
  },
  {
   "cell_type": "code",
   "execution_count": 115,
   "metadata": {},
   "outputs": [],
   "source": [
    "df_names.Gender.replace({'Female':0, 'Male':1}, inplace=True)"
   ]
  },
  {
   "cell_type": "code",
   "execution_count": 116,
   "metadata": {},
   "outputs": [
    {
     "data": {
      "text/plain": [
       "array([0, 1], dtype=int64)"
      ]
     },
     "execution_count": 116,
     "metadata": {},
     "output_type": "execute_result"
    }
   ],
   "source": [
    "df_names.Gender.unique()"
   ]
  },
  {
   "cell_type": "code",
   "execution_count": 117,
   "metadata": {},
   "outputs": [
    {
     "data": {
      "text/plain": [
       "Index      int64\n",
       "Name      object\n",
       "Gender     int64\n",
       "dtype: object"
      ]
     },
     "execution_count": 117,
     "metadata": {},
     "output_type": "execute_result"
    }
   ],
   "source": [
    "df_names.dtypes"
   ]
  },
  {
   "cell_type": "code",
   "execution_count": 118,
   "metadata": {},
   "outputs": [],
   "source": [
    "Xfeatures = df_names['Name']"
   ]
  },
  {
   "cell_type": "code",
   "execution_count": 119,
   "metadata": {},
   "outputs": [],
   "source": [
    "#Feature Extraction\n",
    "cv = CountVectorizer(encoding='utf-8')\n",
    "X = cv.fit_transform(Xfeatures.values.astype('U'))"
   ]
  },
  {
   "cell_type": "code",
   "execution_count": 120,
   "metadata": {},
   "outputs": [
    {
     "data": {
      "text/plain": [
       "['abeetha',\n",
       " 'abilash',\n",
       " 'abinada',\n",
       " 'abinuka',\n",
       " 'abises',\n",
       " 'achinthya',\n",
       " 'achira',\n",
       " 'adam',\n",
       " 'adeekshana',\n",
       " 'adeepa',\n",
       " 'adele',\n",
       " 'adesh',\n",
       " 'adishani',\n",
       " 'aditha',\n",
       " 'adithi',\n",
       " 'agash',\n",
       " 'agathisi',\n",
       " 'agbow',\n",
       " 'agrani',\n",
       " 'ahansa',\n",
       " 'aharsha',\n",
       " 'ahasika',\n",
       " 'akarsha',\n",
       " 'akeesha',\n",
       " 'aken',\n",
       " 'akenya',\n",
       " 'akeshia',\n",
       " 'akethya',\n",
       " 'akidu',\n",
       " 'akila',\n",
       " 'akith',\n",
       " 'akithma',\n",
       " 'akshadi',\n",
       " 'alanah',\n",
       " 'alen',\n",
       " 'aliyah',\n",
       " 'aloka',\n",
       " 'amalka',\n",
       " 'amalmi',\n",
       " 'amameth',\n",
       " 'amandi',\n",
       " 'amasha',\n",
       " 'amaya',\n",
       " 'amayuru',\n",
       " 'ameesha',\n",
       " 'amelia',\n",
       " 'amilka',\n",
       " 'aminda',\n",
       " 'amindi',\n",
       " 'anagi',\n",
       " 'anannya',\n",
       " 'andrew',\n",
       " 'andreyana',\n",
       " 'anidu',\n",
       " 'anoshi',\n",
       " 'anudha',\n",
       " 'anudima',\n",
       " 'anuditha',\n",
       " 'anuhansi',\n",
       " 'anuja',\n",
       " 'anujitha',\n",
       " 'anuki',\n",
       " 'anusara',\n",
       " 'anusas',\n",
       " 'anushima',\n",
       " 'anuthmi',\n",
       " 'apsara',\n",
       " 'apurva',\n",
       " 'araddya',\n",
       " 'araliya',\n",
       " 'arayan',\n",
       " 'areli',\n",
       " 'arithaka',\n",
       " 'arkarshi',\n",
       " 'arosh',\n",
       " 'aroshika',\n",
       " 'arshinsa',\n",
       " 'arundi',\n",
       " 'asel',\n",
       " 'ashal',\n",
       " 'ashani',\n",
       " 'ashaya',\n",
       " 'ashel',\n",
       " 'ashennya',\n",
       " 'ashinsa',\n",
       " 'ashvika',\n",
       " 'ashvini',\n",
       " 'asindu',\n",
       " 'asini',\n",
       " 'athista',\n",
       " 'athsara',\n",
       " 'ayan',\n",
       " 'ayansa',\n",
       " 'ayen',\n",
       " 'ayesh',\n",
       " 'ayeshma',\n",
       " 'ayisha',\n",
       " 'ayoddya',\n",
       " 'ayomal',\n",
       " 'ayone',\n",
       " 'ayoni',\n",
       " 'ayosh',\n",
       " 'ayuka',\n",
       " 'banuja',\n",
       " 'bashana',\n",
       " 'bashitha',\n",
       " 'basith',\n",
       " 'basura',\n",
       " 'bathika',\n",
       " 'bavindu',\n",
       " 'behansa',\n",
       " 'belindu',\n",
       " 'benul',\n",
       " 'benula',\n",
       " 'bigun',\n",
       " 'bihaga',\n",
       " 'bihakshi',\n",
       " 'bihan',\n",
       " 'bihandu',\n",
       " 'bihara',\n",
       " 'bihesha',\n",
       " 'bihindu',\n",
       " 'bilanka',\n",
       " 'bilesha',\n",
       " 'bimalka',\n",
       " 'bimalsha',\n",
       " 'bimanli',\n",
       " 'bimashi',\n",
       " 'bimsara',\n",
       " 'bimsari',\n",
       " 'bimsitha',\n",
       " 'binadha',\n",
       " 'binadi',\n",
       " 'binakshi',\n",
       " 'binali',\n",
       " 'binara',\n",
       " 'binari',\n",
       " 'bindiya',\n",
       " 'binudi',\n",
       " 'binuka',\n",
       " 'binuki',\n",
       " 'binula',\n",
       " 'binura',\n",
       " 'binusha',\n",
       " 'binuthi',\n",
       " 'bipul',\n",
       " 'bithul',\n",
       " 'bivindi',\n",
       " 'bonidu',\n",
       " 'bonuka',\n",
       " 'bonula',\n",
       " 'bonura',\n",
       " 'bosilu',\n",
       " 'brinal',\n",
       " 'brynn',\n",
       " 'budwin',\n",
       " 'bumidu',\n",
       " 'buthpriya',\n",
       " 'buvaneka',\n",
       " 'buvani',\n",
       " 'buvindu',\n",
       " 'buwanija',\n",
       " 'casey',\n",
       " 'chalukkya',\n",
       " 'chamadith',\n",
       " 'chamallka',\n",
       " 'chamalsha',\n",
       " 'chamalshi',\n",
       " 'chamasha',\n",
       " 'chamath',\n",
       " 'chamathi',\n",
       " 'chamathka',\n",
       " 'chamidu',\n",
       " 'chamilka',\n",
       " 'chamilki',\n",
       " 'chamodhi',\n",
       " 'chamothma',\n",
       " 'chamudi',\n",
       " 'chamuditha',\n",
       " 'chandula',\n",
       " 'chandupa',\n",
       " 'chaneli',\n",
       " 'chanelka',\n",
       " 'chaneru',\n",
       " 'chaneth',\n",
       " 'chanethi',\n",
       " 'chanidula',\n",
       " 'chanith',\n",
       " 'chanmira',\n",
       " 'chanudi',\n",
       " 'chanuga',\n",
       " 'chanuk',\n",
       " 'chanuka',\n",
       " 'chanul',\n",
       " 'chanuth',\n",
       " 'chanuthmi',\n",
       " 'chanya',\n",
       " 'charin',\n",
       " 'charuka',\n",
       " 'charukkya',\n",
       " 'charunndya',\n",
       " 'chasindi',\n",
       " 'chathika',\n",
       " 'chathruka',\n",
       " 'chathuki',\n",
       " 'chathumika',\n",
       " 'chathumina',\n",
       " 'chathunika',\n",
       " 'chathunka',\n",
       " 'chathurangai',\n",
       " 'chathush',\n",
       " 'chathushi',\n",
       " 'chathvidu',\n",
       " 'chavindi',\n",
       " 'chenal',\n",
       " 'chenethi',\n",
       " 'chenethma',\n",
       " 'chenethmi',\n",
       " 'chenitha',\n",
       " 'chenula',\n",
       " 'chenuli',\n",
       " 'chenumi',\n",
       " 'chenush',\n",
       " 'chenushi',\n",
       " 'chenushka',\n",
       " 'chenuthi',\n",
       " 'chethana',\n",
       " 'chethika',\n",
       " 'chithika',\n",
       " 'chithila',\n",
       " 'chithuki',\n",
       " 'chithuli',\n",
       " 'dahamya',\n",
       " 'dakshina',\n",
       " 'dakshitha',\n",
       " 'dalia',\n",
       " 'damhiru',\n",
       " 'damishka',\n",
       " 'damithu',\n",
       " 'damnath',\n",
       " 'damnidu',\n",
       " 'damniru',\n",
       " 'damrisi',\n",
       " 'damsana',\n",
       " 'damsath',\n",
       " 'damsilu',\n",
       " 'damyuru',\n",
       " 'dana',\n",
       " 'danara',\n",
       " 'danesha',\n",
       " 'danidu',\n",
       " 'daniru',\n",
       " 'danitha',\n",
       " 'daniyel',\n",
       " 'danoth',\n",
       " 'danuja',\n",
       " 'dasini',\n",
       " 'dasiru',\n",
       " 'dasula',\n",
       " 'deemantha',\n",
       " 'dehan',\n",
       " 'dehara',\n",
       " 'dehasa',\n",
       " 'dehemi',\n",
       " 'dehen',\n",
       " 'demini',\n",
       " 'deneesha',\n",
       " 'deneth',\n",
       " 'denethi',\n",
       " 'denethmi',\n",
       " 'denethni',\n",
       " 'denethu',\n",
       " 'denisha',\n",
       " 'denudi',\n",
       " 'denul',\n",
       " 'denush',\n",
       " 'denushka',\n",
       " 'denuththara',\n",
       " 'denuwana',\n",
       " 'desadul',\n",
       " 'desanduli',\n",
       " 'desas',\n",
       " 'desath',\n",
       " 'desha',\n",
       " 'deshmi',\n",
       " 'deshni',\n",
       " 'devansa',\n",
       " 'devansha',\n",
       " 'devarshi',\n",
       " 'devin',\n",
       " 'devindi',\n",
       " 'devoshi',\n",
       " 'devri',\n",
       " 'devsara',\n",
       " 'dewdu',\n",
       " 'dewitha',\n",
       " 'dewjani',\n",
       " 'dewmika',\n",
       " 'dewmin',\n",
       " 'dewmith',\n",
       " 'dewni',\n",
       " 'dewnith',\n",
       " 'dewnitha',\n",
       " 'dewnithi',\n",
       " 'dewnula',\n",
       " 'dewram',\n",
       " 'dewsara',\n",
       " 'dewshitha',\n",
       " 'dewtharu',\n",
       " 'dewthilina',\n",
       " 'dewthilini',\n",
       " 'dhamsha',\n",
       " 'didukithmina',\n",
       " 'didul',\n",
       " 'didula',\n",
       " 'didulanga',\n",
       " 'diduli',\n",
       " 'dihansa',\n",
       " 'dihara',\n",
       " 'dihasa',\n",
       " 'diknitha',\n",
       " 'dilana',\n",
       " 'dilanaka',\n",
       " 'dilanka',\n",
       " 'dilansha',\n",
       " 'dilashi',\n",
       " 'dilenya',\n",
       " 'dilin',\n",
       " 'dilmani',\n",
       " 'dilmeth',\n",
       " 'dilmi',\n",
       " 'dilmina',\n",
       " 'dilmith',\n",
       " 'dilneth',\n",
       " 'dilni',\n",
       " 'diloshana',\n",
       " 'dilsara',\n",
       " 'dilsha',\n",
       " 'dilshara',\n",
       " 'dilshari',\n",
       " 'dilshika',\n",
       " 'dilumi',\n",
       " 'dimali',\n",
       " 'dimalmi',\n",
       " 'dimantha',\n",
       " 'dimathmi',\n",
       " 'dimsara',\n",
       " 'dimsith',\n",
       " 'dimudu',\n",
       " 'dinadi',\n",
       " 'dinal',\n",
       " 'dinala',\n",
       " 'dinali',\n",
       " 'dinarth',\n",
       " 'dineli',\n",
       " 'dinethma',\n",
       " 'dinethmi',\n",
       " 'dinethra',\n",
       " 'dinethya',\n",
       " 'dinhas',\n",
       " 'dinidi',\n",
       " 'dinidu',\n",
       " 'dinijaya',\n",
       " 'dinili',\n",
       " 'dinimuthu',\n",
       " 'dinisara',\n",
       " 'dinithi',\n",
       " 'dinlini',\n",
       " 'dinol',\n",
       " 'dinsara',\n",
       " 'dinudi',\n",
       " 'dinudika',\n",
       " 'dinugi',\n",
       " 'dinujana',\n",
       " 'dinuji',\n",
       " 'dinuka',\n",
       " 'dinuki',\n",
       " 'dinul',\n",
       " 'dinuli',\n",
       " 'dinumith',\n",
       " 'dinupama',\n",
       " 'dinura',\n",
       " 'dinushan',\n",
       " 'dinuth',\n",
       " 'dinuthi',\n",
       " 'dinuthni',\n",
       " 'dirineth',\n",
       " 'disal',\n",
       " 'disala',\n",
       " 'disana',\n",
       " 'disas',\n",
       " 'disen',\n",
       " 'disha',\n",
       " 'disidu',\n",
       " 'disira',\n",
       " 'disuli',\n",
       " 'dithira',\n",
       " 'dithmi',\n",
       " 'diveesha',\n",
       " 'divethma',\n",
       " 'divyanga',\n",
       " 'divyangani',\n",
       " 'divyangi',\n",
       " 'divyani',\n",
       " 'divyanjali',\n",
       " 'diyan',\n",
       " 'diyana',\n",
       " 'diyansa',\n",
       " 'diyone',\n",
       " 'duasha',\n",
       " 'duhansa',\n",
       " 'duhara',\n",
       " 'dulan',\n",
       " 'dulandara',\n",
       " 'dulanga',\n",
       " 'dulangi',\n",
       " 'dulansa',\n",
       " 'dulantha',\n",
       " 'dulanya',\n",
       " 'dulashi',\n",
       " 'duleesha',\n",
       " 'dulen',\n",
       " 'dulesha',\n",
       " 'duleshmi',\n",
       " 'duleshni',\n",
       " 'dulhara',\n",
       " 'dulin',\n",
       " 'dulina',\n",
       " 'dulini',\n",
       " 'dulinsa',\n",
       " 'dulith',\n",
       " 'dulitha',\n",
       " 'dulithi',\n",
       " 'dullna',\n",
       " 'dulmen',\n",
       " 'dulmeth',\n",
       " 'dulmi',\n",
       " 'dulmin',\n",
       " 'dulmina',\n",
       " 'dulmith',\n",
       " 'dulmitha',\n",
       " 'dulneth',\n",
       " 'dulnethi',\n",
       " 'dulni',\n",
       " 'dulnitha',\n",
       " 'dulsha',\n",
       " 'dulshara',\n",
       " 'dulshi',\n",
       " 'dumalami',\n",
       " 'dumalsha',\n",
       " 'dunara',\n",
       " 'duneesha',\n",
       " 'dunethma',\n",
       " 'dunithi',\n",
       " 'dushani',\n",
       " 'duveni',\n",
       " 'duvindu',\n",
       " 'duwen',\n",
       " 'dwin',\n",
       " 'eden',\n",
       " 'emal',\n",
       " 'emalka',\n",
       " 'emasha',\n",
       " 'emith',\n",
       " 'enorck',\n",
       " 'enosh',\n",
       " 'enosha',\n",
       " 'erandith',\n",
       " 'erayan',\n",
       " 'esandi',\n",
       " 'esandu',\n",
       " 'eshala',\n",
       " 'eshan',\n",
       " 'eshani',\n",
       " 'eshara',\n",
       " 'ethan',\n",
       " 'ethish',\n",
       " 'flynn',\n",
       " 'frank',\n",
       " 'gadeesha',\n",
       " 'gagamina',\n",
       " 'gagan',\n",
       " 'gandeera',\n",
       " 'ganidu',\n",
       " 'garuka',\n",
       " 'gavesh',\n",
       " 'gavith',\n",
       " 'gaweshi',\n",
       " 'gawravi',\n",
       " 'gayandi',\n",
       " 'gayanuka',\n",
       " 'gayashika',\n",
       " 'gayathma',\n",
       " 'gayomi',\n",
       " 'gayomitha',\n",
       " 'gayuki',\n",
       " 'geenardh',\n",
       " 'geeneth',\n",
       " 'geenuka',\n",
       " 'geeshan',\n",
       " 'geesilu',\n",
       " 'geesith',\n",
       " 'gevinnya',\n",
       " 'gihami',\n",
       " 'gihanga',\n",
       " 'gihansa',\n",
       " 'gihansith',\n",
       " 'gimansa',\n",
       " 'gimsara',\n",
       " 'ginuka',\n",
       " 'ginura',\n",
       " 'gishan',\n",
       " 'gishonu',\n",
       " 'githma',\n",
       " 'githmi',\n",
       " 'givantha',\n",
       " 'goshitha',\n",
       " 'guwani',\n",
       " 'hansada',\n",
       " 'hansaja',\n",
       " 'hansaka',\n",
       " 'hansana',\n",
       " 'hansidu',\n",
       " 'harini',\n",
       " 'harinya',\n",
       " 'harith',\n",
       " 'haritha',\n",
       " 'harun',\n",
       " 'harusha',\n",
       " 'hasandi',\n",
       " 'hasaranda',\n",
       " 'hasindi',\n",
       " 'hasindu',\n",
       " 'hasith',\n",
       " 'hasmini',\n",
       " 'hasmitha',\n",
       " 'helindu',\n",
       " 'helitha',\n",
       " 'hemanga',\n",
       " 'hemashi',\n",
       " 'heneesha',\n",
       " 'hesanya',\n",
       " 'hesara',\n",
       " 'heshada',\n",
       " 'heshadi',\n",
       " 'heshani',\n",
       " 'heshini',\n",
       " 'heshni',\n",
       " 'hesindu',\n",
       " 'himansa',\n",
       " 'himansaka',\n",
       " 'himara',\n",
       " 'himaru',\n",
       " 'himasal',\n",
       " 'himasanka',\n",
       " 'himaya',\n",
       " 'himena',\n",
       " 'himeth',\n",
       " 'himethmi',\n",
       " 'himsadi',\n",
       " 'himsara',\n",
       " 'hiranya',\n",
       " 'hiruja',\n",
       " 'hiruka',\n",
       " 'hiruki',\n",
       " 'hirun',\n",
       " 'hirundi',\n",
       " 'hitheshi',\n",
       " 'hithmi',\n",
       " 'hithushi',\n",
       " 'ileesha',\n",
       " 'imandi',\n",
       " 'imandiev',\n",
       " 'imani',\n",
       " 'imansha',\n",
       " 'imanya',\n",
       " 'imaya',\n",
       " 'imayuru',\n",
       " 'imelka',\n",
       " 'imesha',\n",
       " 'imeth',\n",
       " 'imira',\n",
       " 'indeepa',\n",
       " 'indisa',\n",
       " 'indusara',\n",
       " 'inhara',\n",
       " 'inoddya',\n",
       " 'inosh',\n",
       " 'insari',\n",
       " 'inshith',\n",
       " 'insuka',\n",
       " 'inudi',\n",
       " 'inugi',\n",
       " 'inuka',\n",
       " 'inumi',\n",
       " 'irash',\n",
       " 'irene',\n",
       " 'irindu',\n",
       " 'iroma',\n",
       " 'irosha',\n",
       " 'irshani',\n",
       " 'irushi',\n",
       " 'iruthma',\n",
       " 'isala',\n",
       " 'isari',\n",
       " 'ishini',\n",
       " 'ishitha',\n",
       " 'isindu',\n",
       " 'isira',\n",
       " 'isitha',\n",
       " 'isuka',\n",
       " 'isula',\n",
       " 'isuli',\n",
       " 'isum',\n",
       " 'ithan',\n",
       " 'ithiksha',\n",
       " 'jaith',\n",
       " 'janeesh',\n",
       " 'janeesha',\n",
       " 'janenn',\n",
       " 'janethya',\n",
       " 'janidi',\n",
       " 'janidu',\n",
       " 'janiru',\n",
       " 'janithrika',\n",
       " 'janithya',\n",
       " 'janodh',\n",
       " 'januki',\n",
       " 'januli',\n",
       " 'januna',\n",
       " 'januni',\n",
       " 'januthi',\n",
       " 'jaseth',\n",
       " 'jawithya',\n",
       " 'jayami',\n",
       " 'jayan',\n",
       " 'jayawi',\n",
       " 'jayodh',\n",
       " 'jeewaka',\n",
       " 'jehansa',\n",
       " 'jenal',\n",
       " 'jenuli',\n",
       " 'jeromi',\n",
       " 'jethmi',\n",
       " 'jevone',\n",
       " 'jewell',\n",
       " 'jinethma',\n",
       " 'jinidu',\n",
       " 'jithara',\n",
       " 'jithmin',\n",
       " 'jithmuka',\n",
       " 'jithnuka',\n",
       " 'jithum',\n",
       " 'joana',\n",
       " 'jonathan',\n",
       " 'jorden',\n",
       " 'josh',\n",
       " 'kalhan',\n",
       " 'kalindu',\n",
       " 'kalmira',\n",
       " 'kanish',\n",
       " 'kasheepa',\n",
       " 'kaveera',\n",
       " 'kaveeshvara',\n",
       " 'kaviru',\n",
       " 'kavishan',\n",
       " 'kavithma',\n",
       " 'kavmindi',\n",
       " 'kawithi',\n",
       " 'kawmina',\n",
       " 'kehan',\n",
       " 'kemini',\n",
       " 'keminu',\n",
       " 'kemira',\n",
       " 'kemith',\n",
       " 'kemitha',\n",
       " 'ken',\n",
       " 'kensara',\n",
       " 'kenula',\n",
       " 'kenuli',\n",
       " 'keshana',\n",
       " 'keshara',\n",
       " 'keshvara',\n",
       " 'kethaki',\n",
       " 'kethmi',\n",
       " 'kethsara',\n",
       " 'keyara',\n",
       " 'kian',\n",
       " 'kinuri',\n",
       " 'kisal',\n",
       " 'kishal',\n",
       " 'kisheini',\n",
       " 'kithmal',\n",
       " 'kithmi',\n",
       " 'kithmin',\n",
       " 'kithmina',\n",
       " 'kithmini',\n",
       " 'kithnuli',\n",
       " 'kithuki',\n",
       " 'kithupa',\n",
       " 'komitha',\n",
       " 'koshela',\n",
       " 'krimash',\n",
       " 'krinash',\n",
       " 'krisha',\n",
       " 'krishal',\n",
       " 'krisheini',\n",
       " 'krishinya',\n",
       " 'kuchila',\n",
       " 'kulansa',\n",
       " 'kulindu',\n",
       " 'kulitha',\n",
       " 'kulshali',\n",
       " 'kulshani',\n",
       " 'kusalmeth',\n",
       " 'kushal',\n",
       " 'kushani',\n",
       " 'kushil',\n",
       " 'kushmitha',\n",
       " 'kyle',\n",
       " 'lakidu',\n",
       " 'lakira',\n",
       " 'lakmith',\n",
       " 'lakmitha',\n",
       " 'lakshane',\n",
       " 'lakvidu',\n",
       " 'laneesha',\n",
       " 'lasal',\n",
       " 'lasitha',\n",
       " 'lavanya',\n",
       " 'laveen',\n",
       " 'layan',\n",
       " 'lechana',\n",
       " 'lehansi',\n",
       " 'lemasha',\n",
       " 'lenasha',\n",
       " 'lendula',\n",
       " 'lesanma',\n",
       " 'lesansa',\n",
       " 'levithu',\n",
       " 'lewmitha',\n",
       " 'lihansa',\n",
       " 'lihini',\n",
       " 'limansa',\n",
       " 'limitha',\n",
       " 'linasha',\n",
       " 'linodh',\n",
       " 'linoja',\n",
       " 'lisadi',\n",
       " 'lisansa',\n",
       " 'lisanya',\n",
       " 'lisara',\n",
       " 'lisasna',\n",
       " 'lisath',\n",
       " 'lishith',\n",
       " 'lisini',\n",
       " 'lithaja',\n",
       " 'lithara',\n",
       " 'lithika',\n",
       " 'lithmini',\n",
       " 'lithula',\n",
       " 'lithuli',\n",
       " 'lithulka',\n",
       " 'lithulki',\n",
       " 'lithumi',\n",
       " 'lithuni',\n",
       " 'liven',\n",
       " 'liviniya',\n",
       " 'livinu',\n",
       " 'liyana',\n",
       " 'lochana',\n",
       " 'lohara',\n",
       " 'lohasha',\n",
       " 'lothika',\n",
       " 'madeesha',\n",
       " 'madushalani',\n",
       " 'magitha',\n",
       " 'maheema',\n",
       " 'maheshika',\n",
       " 'mahila',\n",
       " 'mahima',\n",
       " 'maleesha',\n",
       " 'malika',\n",
       " 'malindi',\n",
       " 'malindu',\n",
       " 'malinsa',\n",
       " 'malinsha',\n",
       " 'malitha',\n",
       " 'malithu',\n",
       " 'malki',\n",
       " 'malmith',\n",
       " 'malshi',\n",
       " 'mandakini',\n",
       " 'mandara',\n",
       " 'mandil',\n",
       " 'mandilu',\n",
       " 'mandive',\n",
       " 'manelka',\n",
       " 'maneth',\n",
       " 'manidu',\n",
       " 'manith',\n",
       " 'manmitha',\n",
       " 'manoda',\n",
       " 'manoddya',\n",
       " 'manodi',\n",
       " 'manoli',\n",
       " 'manothmi',\n",
       " 'manudha',\n",
       " 'manudi',\n",
       " 'manugi',\n",
       " 'manuja',\n",
       " 'manujaya',\n",
       " 'manuji',\n",
       " 'manuka',\n",
       " 'manuki',\n",
       " 'manuth',\n",
       " 'manuthi',\n",
       " 'mapasha',\n",
       " 'mark',\n",
       " 'matheesha',\n",
       " 'mathika',\n",
       " 'mayithi',\n",
       " 'mayomi',\n",
       " 'mayone',\n",
       " 'mayusha',\n",
       " 'mayuvindi',\n",
       " 'meditha',\n",
       " 'medithi',\n",
       " 'melan',\n",
       " 'melanka',\n",
       " 'melinsa',\n",
       " 'menarth',\n",
       " 'menath',\n",
       " 'menudu',\n",
       " 'menuka',\n",
       " 'menula',\n",
       " 'menuli',\n",
       " 'menura',\n",
       " 'menuri',\n",
       " 'mesath',\n",
       " 'methara',\n",
       " 'methdam',\n",
       " 'methdina',\n",
       " 'methila',\n",
       " 'methmi',\n",
       " 'methmika',\n",
       " 'methmitha',\n",
       " 'methnada',\n",
       " 'methnadi',\n",
       " 'methni',\n",
       " 'methsilini',\n",
       " 'methsilu',\n",
       " 'methsiluni',\n",
       " 'methsisi',\n",
       " 'methsuvi',\n",
       " 'methuga',\n",
       " 'methuja',\n",
       " 'methuka',\n",
       " 'methuki',\n",
       " 'methuli',\n",
       " 'methum',\n",
       " 'methuma',\n",
       " 'methumini',\n",
       " 'methuni',\n",
       " 'methunima',\n",
       " 'methusha',\n",
       " 'methushi',\n",
       " 'mewan',\n",
       " 'mewin',\n",
       " 'midhmal',\n",
       " 'mihara',\n",
       " 'miheli',\n",
       " 'mihijaya',\n",
       " 'mihikalpa',\n",
       " 'mihindee',\n",
       " 'mihindi',\n",
       " 'mihini',\n",
       " 'mihiru',\n",
       " 'mihisara',\n",
       " 'mikela',\n",
       " 'milindu',\n",
       " 'minadha',\n",
       " 'minadi',\n",
       " 'minaga',\n",
       " 'mindara',\n",
       " 'mindula',\n",
       " 'minduni',\n",
       " 'mineth',\n",
       " 'minha',\n",
       " 'minidu',\n",
       " 'minidula',\n",
       " 'minila',\n",
       " 'minodh',\n",
       " 'minoli',\n",
       " 'minosha',\n",
       " 'minsaha',\n",
       " 'minsara',\n",
       " 'minuk',\n",
       " 'minuka',\n",
       " 'minul',\n",
       " 'minula',\n",
       " 'minuli',\n",
       " 'minumi',\n",
       " 'minupa',\n",
       " 'minuri',\n",
       " 'minusha',\n",
       " 'misadi',\n",
       " 'mishadi',\n",
       " 'misheli',\n",
       " 'mitheesha',\n",
       " 'mithili',\n",
       " 'mithsara',\n",
       " 'mithuki',\n",
       " 'mithumi',\n",
       " 'mithuru',\n",
       " 'miyura',\n",
       " 'miyurangi',\n",
       " 'miyuru',\n",
       " 'moditha',\n",
       " 'moneesha',\n",
       " 'muditha',\n",
       " 'nadewni',\n",
       " 'nadinsa',\n",
       " 'nadinsha',\n",
       " 'nadul',\n",
       " 'nadula',\n",
       " 'naduli',\n",
       " 'najeelia',\n",
       " 'nalika',\n",
       " 'namitha',\n",
       " 'nandil',\n",
       " 'nanvidu',\n",
       " 'nashmika',\n",
       " 'navani',\n",
       " 'naveesh',\n",
       " 'navindu',\n",
       " 'nawani',\n",
       " 'nawoli',\n",
       " 'nehan',\n",
       " 'nehandha',\n",
       " 'nehansa',\n",
       " 'nehara',\n",
       " 'nehari',\n",
       " 'nemin',\n",
       " 'nemitha',\n",
       " 'nerammya',\n",
       " 'nesagi',\n",
       " 'nesandi',\n",
       " 'neshandi',\n",
       " 'neshari',\n",
       " 'nethan',\n",
       " 'nethangi',\n",
       " 'nethanya',\n",
       " 'nethara',\n",
       " 'nethari',\n",
       " 'nethdula',\n",
       " 'nethmika',\n",
       " 'nethmina',\n",
       " 'nethmitha',\n",
       " 'nethsara',\n",
       " 'nethsarani',\n",
       " 'nethsilu',\n",
       " 'nethu',\n",
       " 'nethugi',\n",
       " 'nethuja',\n",
       " 'nethuka',\n",
       " 'nethuki',\n",
       " 'nethul',\n",
       " 'nethula',\n",
       " 'nethuli',\n",
       " 'nethulima',\n",
       " 'nethumi',\n",
       " 'nethuni',\n",
       " 'nethunika',\n",
       " 'nethupa',\n",
       " 'nethusadi',\n",
       " 'nethushi',\n",
       " 'nethushima',\n",
       " 'nidiya',\n",
       " 'niduwara',\n",
       " 'nidyan',\n",
       " 'nidyana',\n",
       " 'nihansa',\n",
       " 'nihari',\n",
       " 'nijel',\n",
       " 'nikesh',\n",
       " 'nikesha',\n",
       " 'nikila',\n",
       " 'nikini',\n",
       " 'nikita',\n",
       " 'nikith',\n",
       " 'nikitha',\n",
       " 'nikolshana',\n",
       " 'nilambara',\n",
       " 'nileshi',\n",
       " 'nilmi',\n",
       " 'nilock',\n",
       " 'nimdew',\n",
       " 'nimeth',\n",
       " 'nimhani',\n",
       " ...]"
      ]
     },
     "execution_count": 120,
     "metadata": {},
     "output_type": "execute_result"
    }
   ],
   "source": [
    "cv.get_feature_names()"
   ]
  },
  {
   "cell_type": "code",
   "execution_count": 121,
   "metadata": {},
   "outputs": [],
   "source": [
    "from sklearn.model_selection import train_test_split"
   ]
  },
  {
   "cell_type": "code",
   "execution_count": 122,
   "metadata": {},
   "outputs": [],
   "source": [
    "#Features\n",
    "X\n",
    "#Labels\n",
    "y = df_names.Gender"
   ]
  },
  {
   "cell_type": "code",
   "execution_count": 123,
   "metadata": {},
   "outputs": [],
   "source": [
    "X_train, X_test, y_train, y_test = train_test_split(X,y, test_size=0.33, random_state =42)"
   ]
  },
  {
   "cell_type": "code",
   "execution_count": 124,
   "metadata": {},
   "outputs": [
    {
     "data": {
      "text/plain": [
       "0.509493670886076"
      ]
     },
     "execution_count": 124,
     "metadata": {},
     "output_type": "execute_result"
    }
   ],
   "source": [
    "#Naive Bayes Classifier \n",
    "from sklearn.naive_bayes import MultinomialNB\n",
    "clf = MultinomialNB()\n",
    "clf.fit(X_train, y_train)\n",
    "clf.score(X_test, y_test)"
   ]
  },
  {
   "cell_type": "code",
   "execution_count": 125,
   "metadata": {},
   "outputs": [
    {
     "name": "stdout",
     "output_type": "stream",
     "text": [
      "Accuracy of Model 50.9493670886076 %\n"
     ]
    }
   ],
   "source": [
    "#Accuracy of our model \n",
    "print(\"Accuracy of Model\", clf.score(X_test, y_test)*100, '%')"
   ]
  },
  {
   "cell_type": "code",
   "execution_count": 126,
   "metadata": {},
   "outputs": [
    {
     "name": "stdout",
     "output_type": "stream",
     "text": [
      "Accuracy of Model 98.43871975019516 %\n"
     ]
    }
   ],
   "source": [
    "#Accuracy of our model \n",
    "print(\"Accuracy of Model\", clf.score(X_train, y_train)*100, '%')"
   ]
  },
  {
   "cell_type": "code",
   "execution_count": 127,
   "metadata": {},
   "outputs": [],
   "source": [
    "#sample prediction\n",
    "sample_name = ['Nethuni']\n",
    "vect = cv.transform(sample_name).toarray()"
   ]
  },
  {
   "cell_type": "code",
   "execution_count": 128,
   "metadata": {},
   "outputs": [
    {
     "data": {
      "text/plain": [
       "array([[0, 0, 0, ..., 0, 0, 0]], dtype=int64)"
      ]
     },
     "execution_count": 128,
     "metadata": {},
     "output_type": "execute_result"
    }
   ],
   "source": [
    "vect"
   ]
  },
  {
   "cell_type": "code",
   "execution_count": 129,
   "metadata": {},
   "outputs": [
    {
     "data": {
      "text/plain": [
       "array([1], dtype=int64)"
      ]
     },
     "execution_count": 129,
     "metadata": {},
     "output_type": "execute_result"
    }
   ],
   "source": [
    "clf.predict(vect)"
   ]
  },
  {
   "cell_type": "code",
   "execution_count": 130,
   "metadata": {},
   "outputs": [
    {
     "data": {
      "text/plain": [
       "array([[0, 0, 0, ..., 0, 0, 0]], dtype=int64)"
      ]
     },
     "execution_count": 130,
     "metadata": {},
     "output_type": "execute_result"
    }
   ],
   "source": [
    "#sample prediction2\n",
    "sample_name1 = ['Dinesh']\n",
    "vect1 = cv.transform(sample_name1).toarray()\n",
    "vect1"
   ]
  },
  {
   "cell_type": "code",
   "execution_count": 131,
   "metadata": {},
   "outputs": [],
   "source": [
    "from sklearn import metrics"
   ]
  },
  {
   "cell_type": "code",
   "execution_count": 132,
   "metadata": {},
   "outputs": [],
   "source": [
    "from sklearn.metrics import confusion_matrix, precision_score, recall_score,f1_score"
   ]
  },
  {
   "cell_type": "code",
   "execution_count": 133,
   "metadata": {},
   "outputs": [],
   "source": [
    "#print(metrics.confusion_matrix(X_train, y_train))"
   ]
  },
  {
   "cell_type": "code",
   "execution_count": null,
   "metadata": {},
   "outputs": [],
   "source": []
  },
  {
   "cell_type": "code",
   "execution_count": 134,
   "metadata": {},
   "outputs": [],
   "source": [
    "def genderPredictor(a):\n",
    "    test_name = [a]\n",
    "    vector = cv.transform(test_name).toarray()\n",
    "    if clf.predict(vector) == 0:\n",
    "        print('Female')\n",
    "    else:\n",
    "        print('Male')\n"
   ]
  },
  {
   "cell_type": "code",
   "execution_count": 135,
   "metadata": {},
   "outputs": [
    {
     "name": "stdout",
     "output_type": "stream",
     "text": [
      "Male\n"
     ]
    }
   ],
   "source": [
    "genderPredictor(\"Ridhmali\")"
   ]
  },
  {
   "cell_type": "code",
   "execution_count": 136,
   "metadata": {},
   "outputs": [
    {
     "name": "stdout",
     "output_type": "stream",
     "text": [
      "Male\n",
      "None\n",
      "Female\n",
      "None\n",
      "Male\n",
      "None\n",
      "Male\n",
      "None\n"
     ]
    }
   ],
   "source": [
    "name_list = [\"Alex\",\"Shalisha\", \"Susitha\", \"Nirmal\"]\n",
    "for n in name_list:\n",
    "    print (genderPredictor1(n))"
   ]
  },
  {
   "cell_type": "code",
   "execution_count": 137,
   "metadata": {},
   "outputs": [],
   "source": [
    "#Using a custom function for feature analysis\n",
    "#By Analogy that most of the female names ends in 'A'  or  'I' or has the sound of 'A'\n",
    "def features(name):\n",
    "    name=name.lower()\n",
    "    return{\n",
    "        'first-letter': name[0], #first letter\n",
    "        'first2-letters': name[0:2], #first 2 letters\n",
    "        'first3-letters': name[0:3], #first3 letters\n",
    "        'last-letter': name[-1], #last letter\n",
    "        'last2-letters': name[-2:], #last2 letters\n",
    "        'last3-letters': name[-3:], #last3 letters\n",
    "    }"
   ]
  },
  {
   "cell_type": "code",
   "execution_count": 138,
   "metadata": {},
   "outputs": [
    {
     "name": "stdout",
     "output_type": "stream",
     "text": [
      "[{'first-letter': 'k', 'first2-letters': 'ka', 'first3-letters': 'kas', 'last-letter': 'i', 'last2-letters': 'ni', 'last3-letters': 'uni'}\n",
      " {'first-letter': 'n', 'first2-letters': 'na', 'first3-letters': 'nav', 'last-letter': 'a', 'last2-letters': 'na', 'last3-letters': 'ana'}\n",
      " {'first-letter': 's', 'first2-letters': 'sa', 'first3-letters': 'san', 'last-letter': 'a', 'last2-letters': 'ha', 'last3-letters': 'sha'}\n",
      " {'first-letter': 'b', 'first2-letters': 'bh', 'first3-letters': 'bha', 'last-letter': 'a', 'last2-letters': 'ya', 'last3-letters': 'iya'}]\n"
     ]
    }
   ],
   "source": [
    "#Vectorize the features function\n",
    "features = np.vectorize(features)\n",
    "print(features(['Kasuni', 'Navanjana', 'Santhusha', 'Bhathiya']))"
   ]
  },
  {
   "cell_type": "code",
   "execution_count": 139,
   "metadata": {},
   "outputs": [],
   "source": [
    "#Extract the features for the dataset\n",
    "df_X = features(df_names['Name'])\n",
    "df_y = df_names['Gender']"
   ]
  },
  {
   "cell_type": "code",
   "execution_count": 140,
   "metadata": {},
   "outputs": [
    {
     "name": "stdout",
     "output_type": "stream",
     "text": [
      "  (0, 0)\t1.0\n",
      "  (0, 2)\t1.0\n",
      "  (0, 4)\t1.0\n",
      "  (0, 7)\t1.0\n",
      "  (0, 8)\t1.0\n",
      "  (0, 10)\t1.0\n",
      "  (1, 1)\t1.0\n",
      "  (1, 3)\t1.0\n",
      "  (1, 5)\t1.0\n",
      "  (1, 6)\t1.0\n",
      "  (1, 9)\t1.0\n",
      "  (1, 11)\t1.0\n"
     ]
    }
   ],
   "source": [
    "from sklearn.feature_extraction import DictVectorizer\n",
    "corpus = features(['කසුනි','සන්තුෂ්'])\n",
    "dv = DictVectorizer()\n",
    "dv.fit(corpus)\n",
    "transformed = dv.transform(corpus)\n",
    "print(transformed)"
   ]
  },
  {
   "cell_type": "code",
   "execution_count": 141,
   "metadata": {},
   "outputs": [
    {
     "data": {
      "text/plain": [
       "['first-letter=ක',\n",
       " 'first-letter=ස',\n",
       " 'first2-letters=කස',\n",
       " 'first2-letters=සන',\n",
       " 'first3-letters=කසු',\n",
       " 'first3-letters=සන්',\n",
       " 'last-letter=්',\n",
       " 'last-letter=ි',\n",
       " 'last2-letters=නි',\n",
       " 'last2-letters=ෂ්',\n",
       " 'last3-letters=ුනි',\n",
       " 'last3-letters=ුෂ්']"
      ]
     },
     "execution_count": 141,
     "metadata": {},
     "output_type": "execute_result"
    }
   ],
   "source": [
    "dv.get_feature_names()"
   ]
  },
  {
   "cell_type": "code",
   "execution_count": 142,
   "metadata": {},
   "outputs": [],
   "source": [
    "dfX_train, dfX_test, dfy_train, dfy_test = train_test_split(df_X,df_y, test_size=0.33, random_state=42)"
   ]
  },
  {
   "cell_type": "code",
   "execution_count": 143,
   "metadata": {},
   "outputs": [
    {
     "data": {
      "text/plain": [
       "array([{'first-letter': 'd', 'first2-letters': 'da', 'first3-letters': 'dak', 'last-letter': 'a', 'last2-letters': 'na', 'last3-letters': 'ina'},\n",
       "       {'first-letter': 'v', 'first2-letters': 'vi', 'first3-letters': 'vid', 'last-letter': 'a', 'last2-letters': 'na', 'last3-letters': 'sna'},\n",
       "       {'first-letter': 'v', 'first2-letters': 'vi', 'first3-letters': 'vis', 'last-letter': 'l', 'last2-letters': 'al', 'last3-letters': 'hal'},\n",
       "       ...,\n",
       "       {'first-letter': 'v', 'first2-letters': 'vi', 'first3-letters': 'vin', 'last-letter': 'a', 'last2-letters': 'ya', 'last3-letters': 'dya'},\n",
       "       {'first-letter': 'n', 'first2-letters': 'ni', 'first3-letters': 'nis', 'last-letter': 'a', 'last2-letters': 'ya', 'last3-letters': 'kya'},\n",
       "       {'first-letter': 'd', 'first2-letters': 'du', 'first3-letters': 'dul', 'last-letter': 'n', 'last2-letters': 'an', 'last3-letters': 'lan'}],\n",
       "      dtype=object)"
      ]
     },
     "execution_count": 143,
     "metadata": {},
     "output_type": "execute_result"
    }
   ],
   "source": [
    "dfX_train"
   ]
  },
  {
   "cell_type": "code",
   "execution_count": 144,
   "metadata": {},
   "outputs": [
    {
     "data": {
      "text/plain": [
       "<1281x831 sparse matrix of type '<class 'numpy.float64'>'\n",
       "\twith 7686 stored elements in Compressed Sparse Row format>"
      ]
     },
     "execution_count": 144,
     "metadata": {},
     "output_type": "execute_result"
    }
   ],
   "source": [
    "dv = DictVectorizer()\n",
    "dv.fit_transform(dfX_train)"
   ]
  },
  {
   "cell_type": "code",
   "execution_count": 145,
   "metadata": {},
   "outputs": [
    {
     "data": {
      "text/plain": [
       "DecisionTreeClassifier()"
      ]
     },
     "execution_count": 145,
     "metadata": {},
     "output_type": "execute_result"
    }
   ],
   "source": [
    "#Model building Using Dictionaries\n",
    "from sklearn.tree import DecisionTreeClassifier\n",
    "dclf= DecisionTreeClassifier()\n",
    "my_xfeatures = dv.transform(dfX_train)\n",
    "dclf.fit(my_xfeatures, dfy_train)"
   ]
  },
  {
   "cell_type": "code",
   "execution_count": 146,
   "metadata": {},
   "outputs": [
    {
     "data": {
      "text/plain": [
       "DecisionTreeClassifier()"
      ]
     },
     "execution_count": 146,
     "metadata": {},
     "output_type": "execute_result"
    }
   ],
   "source": [
    "DecisionTreeClassifier()"
   ]
  },
  {
   "cell_type": "code",
   "execution_count": 147,
   "metadata": {},
   "outputs": [],
   "source": [
    "#Build Features and Transform them\n",
    "sample_name_eg = ['Bhathiya']\n",
    "transform_dv = dv.transform(features(sample_name_eg))"
   ]
  },
  {
   "cell_type": "code",
   "execution_count": 148,
   "metadata": {},
   "outputs": [],
   "source": [
    "vect3 = transform_dv.toarray()"
   ]
  },
  {
   "cell_type": "code",
   "execution_count": 149,
   "metadata": {},
   "outputs": [
    {
     "data": {
      "text/plain": [
       "array([0], dtype=int64)"
      ]
     },
     "execution_count": 149,
     "metadata": {},
     "output_type": "execute_result"
    }
   ],
   "source": [
    "#Predicting Gender of name\n",
    "#Male is 1, Female is 0\n",
    "dclf.predict(vect3)"
   ]
  },
  {
   "cell_type": "code",
   "execution_count": 150,
   "metadata": {},
   "outputs": [
    {
     "name": "stdout",
     "output_type": "stream",
     "text": [
      "Female\n"
     ]
    }
   ],
   "source": [
    "if dclf.predict(vect3) ==0:\n",
    "    print('Female')\n",
    "else:\n",
    "    print('Male')"
   ]
  },
  {
   "cell_type": "code",
   "execution_count": 151,
   "metadata": {},
   "outputs": [],
   "source": [
    "#A function to do it - Watch 13.26\n",
    "def genderPredictor1(a):\n",
    "    test_name1 = [a]\n",
    "    transform_dv = dv.transform(features(test_name1))\n",
    "    vector = transform_dv.toarray()\n",
    "    if dclf.predict(vector) == 0:\n",
    "        print('Female')\n",
    "    else:\n",
    "        print('Male')\n",
    "    "
   ]
  },
  {
   "cell_type": "code",
   "execution_count": 152,
   "metadata": {},
   "outputs": [],
   "source": [
    "random_name_list = [\"ඇලෙක්ස්\",\"ශලීෂා\", \"සුසිතා\", \"නිර්මාල්\"]"
   ]
  },
  {
   "cell_type": "code",
   "execution_count": 153,
   "metadata": {},
   "outputs": [
    {
     "name": "stdout",
     "output_type": "stream",
     "text": [
      "Male\n",
      "None\n",
      "Male\n",
      "None\n",
      "Male\n",
      "None\n",
      "Male\n",
      "None\n"
     ]
    }
   ],
   "source": [
    "for n in random_name_list:\n",
    "    print (genderPredictor1(n))"
   ]
  },
  {
   "cell_type": "code",
   "execution_count": 154,
   "metadata": {},
   "outputs": [
    {
     "name": "stdout",
     "output_type": "stream",
     "text": [
      "Accuracy of Model 0.975800156128025\n"
     ]
    }
   ],
   "source": [
    "##Accuracy of models descision tree Classifier works better than Naive bayes\n",
    "#Accuracy on training set\n",
    "print(\"Accuracy of Model\", dclf.score(dv.transform(dfX_train), dfy_train))"
   ]
  },
  {
   "cell_type": "code",
   "execution_count": 155,
   "metadata": {},
   "outputs": [
    {
     "name": "stdout",
     "output_type": "stream",
     "text": [
      "Accuracy of Model 0.8575949367088608\n"
     ]
    }
   ],
   "source": [
    "#Accuracy on test set\n",
    "print(\"Accuracy of Model\", dclf.score(dv.transform(dfX_test), dfy_test))"
   ]
  },
  {
   "cell_type": "code",
   "execution_count": 156,
   "metadata": {},
   "outputs": [
    {
     "ename": "AttributeError",
     "evalue": "'DecisionTreeClassifier' object has no attribute 'recall_score'",
     "output_type": "error",
     "traceback": [
      "\u001b[1;31m---------------------------------------------------------------------------\u001b[0m",
      "\u001b[1;31mAttributeError\u001b[0m                            Traceback (most recent call last)",
      "\u001b[1;32m<ipython-input-156-db0840514a67>\u001b[0m in \u001b[0;36m<module>\u001b[1;34m\u001b[0m\n\u001b[0;32m      1\u001b[0m \u001b[1;32mfrom\u001b[0m \u001b[0msklearn\u001b[0m\u001b[1;33m.\u001b[0m\u001b[0mmetrics\u001b[0m \u001b[1;32mimport\u001b[0m \u001b[0mprecision_score\u001b[0m\u001b[1;33m,\u001b[0m \u001b[0mrecall_score\u001b[0m\u001b[1;33m,\u001b[0m\u001b[0mf1_score\u001b[0m\u001b[1;33m\u001b[0m\u001b[1;33m\u001b[0m\u001b[0m\n\u001b[1;32m----> 2\u001b[1;33m \u001b[0mdclf\u001b[0m\u001b[1;33m.\u001b[0m\u001b[0mrecall_score\u001b[0m\u001b[1;33m(\u001b[0m\u001b[0mdv\u001b[0m\u001b[1;33m.\u001b[0m\u001b[0mtransform\u001b[0m\u001b[1;33m(\u001b[0m\u001b[0mdfX_test\u001b[0m\u001b[1;33m)\u001b[0m\u001b[1;33m,\u001b[0m \u001b[0mdfy_test\u001b[0m\u001b[1;33m)\u001b[0m\u001b[1;33m\u001b[0m\u001b[1;33m\u001b[0m\u001b[0m\n\u001b[0m",
      "\u001b[1;31mAttributeError\u001b[0m: 'DecisionTreeClassifier' object has no attribute 'recall_score'"
     ]
    }
   ],
   "source": [
    "from sklearn.metrics import precision_score, recall_score,f1_score\n",
    "dclf.recall_score(dv.transform(dfX_test), dfy_test)"
   ]
  },
  {
   "cell_type": "code",
   "execution_count": null,
   "metadata": {},
   "outputs": [],
   "source": []
  },
  {
   "cell_type": "code",
   "execution_count": 157,
   "metadata": {},
   "outputs": [],
   "source": [
    "#Saving our model\n",
    "import joblib"
   ]
  },
  {
   "cell_type": "code",
   "execution_count": 240,
   "metadata": {},
   "outputs": [],
   "source": [
    "decisiontreeModel = open(\"decisiontreemodel.pkl\",\"wb\")"
   ]
  },
  {
   "cell_type": "code",
   "execution_count": 241,
   "metadata": {},
   "outputs": [],
   "source": [
    "joblib.dump(dclf, decisiontreeModel)"
   ]
  },
  {
   "cell_type": "code",
   "execution_count": 242,
   "metadata": {},
   "outputs": [
    {
     "data": {
      "text/plain": [
       "<function BufferedWriter.close>"
      ]
     },
     "execution_count": 242,
     "metadata": {},
     "output_type": "execute_result"
    }
   ],
   "source": [
    "decisiontreeModel.close"
   ]
  },
  {
   "cell_type": "code",
   "execution_count": 243,
   "metadata": {},
   "outputs": [],
   "source": [
    "#Alternative model close\n",
    "import pickle"
   ]
  },
  {
   "cell_type": "code",
   "execution_count": 244,
   "metadata": {},
   "outputs": [],
   "source": [
    "dctreeModel = open(\"namesdetectoremodel.pkl\",\"wb\")\n",
    "pickle.dump(dclf, dctreeModel)"
   ]
  },
  {
   "cell_type": "code",
   "execution_count": 245,
   "metadata": {},
   "outputs": [],
   "source": [
    "dctreeModel.close()"
   ]
  },
  {
   "cell_type": "code",
   "execution_count": 246,
   "metadata": {},
   "outputs": [],
   "source": [
    "NaiveBayesModel = open(\"naivebayesgendermodel.pkl\",\"wb\")"
   ]
  },
  {
   "cell_type": "code",
   "execution_count": 247,
   "metadata": {},
   "outputs": [],
   "source": [
    "joblib.dump(clf, NaiveBayesModel)"
   ]
  },
  {
   "cell_type": "code",
   "execution_count": 248,
   "metadata": {},
   "outputs": [],
   "source": [
    "NaiveBayesModel.close()"
   ]
  },
  {
   "cell_type": "code",
   "execution_count": null,
   "metadata": {},
   "outputs": [],
   "source": []
  },
  {
   "cell_type": "code",
   "execution_count": null,
   "metadata": {},
   "outputs": [],
   "source": []
  }
 ],
 "metadata": {
  "kernelspec": {
   "display_name": "Python 3",
   "language": "python",
   "name": "python3"
  },
  "language_info": {
   "codemirror_mode": {
    "name": "ipython",
    "version": 3
   },
   "file_extension": ".py",
   "mimetype": "text/x-python",
   "name": "python",
   "nbconvert_exporter": "python",
   "pygments_lexer": "ipython3",
   "version": "3.7.4"
  }
 },
 "nbformat": 4,
 "nbformat_minor": 4
}
